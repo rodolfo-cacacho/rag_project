{
 "cells": [
  {
   "cell_type": "code",
   "execution_count": 1,
   "metadata": {},
   "outputs": [
    {
     "name": "stdout",
     "output_type": "stream",
     "text": [
      "Loaded API KEY ChatGPT: sk-proj-FrNMaLZT7tgBftIDPuBOT3BlbkFJFND9eOXtUMeCyWxplFlV\n"
     ]
    }
   ],
   "source": [
    "import os\n",
    "import pandas as pd\n",
    "from clean_faq_beg_em import process_directory_csv\n",
    "path_home = '/Users/rodolfocacacho/Documents/Documents/MAI/Master Thesis/Code/rag_clean'\n",
    "os.chdir(path_home)"
   ]
  },
  {
   "cell_type": "code",
   "execution_count": 2,
   "metadata": {},
   "outputs": [
    {
     "name": "stdout",
     "output_type": "stream",
     "text": [
      "CSV Path Exists: data/documents/output/Technische FAQ BEG EM/Technische FAQ BEG EM_1 (2021-03-01)/tables\n",
      "data/documents/output/Technische FAQ BEG EM/Technische FAQ BEG EM_1 (2021-03-01)/tables/fileoutpart2.csv\n",
      "Header: ['Nr.', 'Thema/Stichwort', 'Beschreibung', 'Relevanz']\n",
      "DF shape (95, 4)\n",
      "Header: ['Nr.', 'Thema/Stichwort', 'Beschreibung', 'Relevanz']\n",
      "Nr.:78\n",
      "Thema/Stichwort:78\n",
      "Beschreibung:78\n",
      "Relevanz:78\n",
      "CSV:\n",
      "<bound method NDFrame.head of      Nr.                                    Hauptthema  \\\n",
      "0   1.01                                     Allgemein   \n",
      "1   1.02                                     Allgemein   \n",
      "2   1.03                                     Allgemein   \n",
      "3   1.04                                     Allgemein   \n",
      "4   1.05                                     Allgemein   \n",
      "..   ...                                           ...   \n",
      "65  8.21  Anlagen zur Wärmeerzeugung (Heizungstechnik)   \n",
      "66  8.22  Anlagen zur Wärmeerzeugung (Heizungstechnik)   \n",
      "67  8.23  Anlagen zur Wärmeerzeugung (Heizungstechnik)   \n",
      "68  8.24  Anlagen zur Wärmeerzeugung (Heizungstechnik)   \n",
      "69  8.25  Anlagen zur Wärmeerzeugung (Heizungstechnik)   \n",
      "\n",
      "                                      Thema/Stichwort  \\\n",
      "0                           Gemischt genutzte Gebäude   \n",
      "1                   Wohnheime, Alten- und Pflegeheime   \n",
      "2   Erweiterung, Ausbau bislang unbeheizter Räume,...   \n",
      "3                   Erweiterung von Nichtwohngebäuden   \n",
      "4                        Ausbau von Nichtwohngebäuden   \n",
      "..                                                ...   \n",
      "65  Wärmepumpen - Luft/Luft-Wärmepumpen (Heizleist...   \n",
      "66  Wärmepumpen - Wärmepumpen in Sonderbauform, Ef...   \n",
      "67  Gebäudenetz, Anschluss an ein öffentliches Wär...   \n",
      "68  Heizungsoptimierung, wassergeführte Heizungssy...   \n",
      "69          Heizungsoptimierung, luftheizende Systeme   \n",
      "\n",
      "                                         Beschreibung Relevanz  \n",
      "0   In der BEG werden Wohn- und Nichtwohngebäude g...  WG, NWG  \n",
      "1   Nach Nummer 3 in § 3 Absatz 1 GEG zählen Wohnh...  WG, NWG  \n",
      "2   Bei der Erweiterung eines Wohngebäudes (z. B. ...       WG  \n",
      "3   Die Erweiterung eines Gebäudes um eine hinzuko...      NWG  \n",
      "4   Wenn integrierte, d. h. innerhalb der Gebäudeg...      NWG  \n",
      "..                                                ...      ...  \n",
      "65  Sofern die ETAs-Werte geprüfter/zertifizierter...  WG, NWG  \n",
      "66  Sofern Bauformen von Wärmepumpen nicht oder nu...  WG, NWG  \n",
      "67  Gebäudenetze sowie der Anschluss an ein Gebäud...  WG, NWG  \n",
      "68  Die Förderung der Heizungsoptimierung bei wass...  WG, NWG  \n",
      "69  Bei luftheizenden Systemen ist in der Fachunte...  WG, NWG  \n",
      "\n",
      "[70 rows x 5 columns]>\n"
     ]
    }
   ],
   "source": [
    "csv_path = 'data/documents/output/Technische FAQ BEG EM/Technische FAQ BEG EM_1 (2021-03-01)/tables'\n",
    "\n",
    "clean_csv = clean_csv(csv_path)\n",
    "\n",
    "if(os.path.exists(clean_csv)):\n",
    "    df = pd.read_csv(clean_csv)\n",
    "    print(f'CSV:\\n{df.head}')\n",
    "else:\n",
    "    print(clean_csv)\n",
    "\n"
   ]
  },
  {
   "cell_type": "code",
   "execution_count": 2,
   "metadata": {},
   "outputs": [
    {
     "name": "stdout",
     "output_type": "stream",
     "text": [
      "CSV Path Exists: data/documents/output/Technische FAQ BEG EM/Technische FAQ BEG EM_2 (2021-06-01)/tables\n",
      "data/documents/output/Technische FAQ BEG EM/Technische FAQ BEG EM_2 (2021-06-01)/clean_table.csv already processed\n",
      "CSV Path Exists: data/documents/output/Technische FAQ BEG EM/Technische FAQ BEG EM_5 (2023-03-13)/tables\n",
      "data/documents/output/Technische FAQ BEG EM/Technische FAQ BEG EM_5 (2023-03-13)/clean_table.csv already processed\n",
      "CSV Path Exists: data/documents/output/Technische FAQ BEG EM/Technische FAQ BEG EM_3 (2021-10-21)/tables\n",
      "data/documents/output/Technische FAQ BEG EM/Technische FAQ BEG EM_3 (2021-10-21)/clean_table.csv already processed\n",
      "CSV Path Exists: data/documents/output/Technische FAQ BEG EM/Technische FAQ BEG EM_4 (2022-08-15)/tables\n",
      "data/documents/output/Technische FAQ BEG EM/Technische FAQ BEG EM_4 (2022-08-15)/clean_table.csv already processed\n",
      "CSV Path Exists: data/documents/output/Technische FAQ BEG EM/Technische FAQ BEG EM_1 (2021-03-01)/tables\n",
      "data/documents/output/Technische FAQ BEG EM/Technische FAQ BEG EM_1 (2021-03-01)/clean_table.csv already processed\n",
      "{'name': ('Technische FAQ BEG EM_1 (2021-03-01)', '.pdf'), 'pdf_path': 'data/documents/original/Technische FAQ BEG EM/Technische FAQ BEG EM_1 (2021-03-01).pdf', 'pdf_name': 'Technische FAQ BEG EM_1 (2021-03-01).pdf', 'type': 'Technische FAQ BEG EM', 'version': '1', 'publication_date': '01/03/2021', 'csv': 'data/documents/output/Technische FAQ BEG EM/Technische FAQ BEG EM_1 (2021-03-01)/clean_table.csv'}\n",
      "CSV exists\n",
      "\n",
      "{'name': ('Technische FAQ BEG EM_2 (2021-06-01)', '.pdf'), 'pdf_path': 'data/documents/original/Technische FAQ BEG EM/Technische FAQ BEG EM_2 (2021-06-01).pdf', 'pdf_name': 'Technische FAQ BEG EM_2 (2021-06-01).pdf', 'type': 'Technische FAQ BEG EM', 'version': '2', 'publication_date': '01/06/2021', 'csv': 'data/documents/output/Technische FAQ BEG EM/Technische FAQ BEG EM_2 (2021-06-01)/clean_table.csv'}\n",
      "CSV exists\n",
      "\n",
      "{'name': ('Technische FAQ BEG EM_4 (2022-08-15)', '.pdf'), 'pdf_path': 'data/documents/original/Technische FAQ BEG EM/Technische FAQ BEG EM_4 (2022-08-15).pdf', 'pdf_name': 'Technische FAQ BEG EM_4 (2022-08-15).pdf', 'type': 'Technische FAQ BEG EM', 'version': '4', 'publication_date': '15/08/2022', 'csv': 'data/documents/output/Technische FAQ BEG EM/Technische FAQ BEG EM_4 (2022-08-15)/clean_table.csv'}\n",
      "CSV exists\n",
      "\n",
      "{'name': ('Technische FAQ BEG EM_3 (2021-10-21)', '.pdf'), 'pdf_path': 'data/documents/original/Technische FAQ BEG EM/Technische FAQ BEG EM_3 (2021-10-21).pdf', 'pdf_name': 'Technische FAQ BEG EM_3 (2021-10-21).pdf', 'type': 'Technische FAQ BEG EM', 'version': '3', 'publication_date': '21/10/2021', 'csv': 'data/documents/output/Technische FAQ BEG EM/Technische FAQ BEG EM_3 (2021-10-21)/clean_table.csv'}\n",
      "CSV exists\n",
      "\n",
      "{'name': ('Technische FAQ BEG EM_5 (2023-03-13)', '.pdf'), 'pdf_path': 'data/documents/original/Technische FAQ BEG EM/Technische FAQ BEG EM_5 (2023-03-13).pdf', 'pdf_name': 'Technische FAQ BEG EM_5 (2023-03-13).pdf', 'type': 'Technische FAQ BEG EM', 'version': '5', 'publication_date': '13/03/2023', 'csv': 'data/documents/output/Technische FAQ BEG EM/Technische FAQ BEG EM_5 (2023-03-13)/clean_table.csv'}\n",
      "CSV exists\n",
      "\n"
     ]
    }
   ],
   "source": [
    "original_file_directory = 'data/documents/original/Technische FAQ BEG EM/'\n",
    "\n",
    "dockies = process_directory_csv(original_file_directory)\n",
    "\n",
    "    "
   ]
  },
  {
   "cell_type": "code",
   "execution_count": 3,
   "metadata": {},
   "outputs": [
    {
     "name": "stdout",
     "output_type": "stream",
     "text": [
      "71\n",
      "doc_type: Technische FAQ BEG EM\n",
      "page: Nr.: 1.01\n",
      "type: Text\n",
      "source: Technische FAQ BEG EM_1 (2021-03-01).pdf\n",
      "path: \n",
      "version: 1\n",
      "valid_date: 01/03/2021\n",
      "77\n",
      "doc_type: Technische FAQ BEG EM\n",
      "page: Nr.: 1.01\n",
      "type: Text\n",
      "source: Technische FAQ BEG EM_2 (2021-06-01).pdf\n",
      "path: \n",
      "version: 2\n",
      "valid_date: 01/06/2021\n",
      "75\n",
      "doc_type: Technische FAQ BEG EM\n",
      "page: Nr.: 1.01\n",
      "type: Text\n",
      "source: Technische FAQ BEG EM_4 (2022-08-15).pdf\n",
      "path: \n",
      "version: 4\n",
      "valid_date: 15/08/2022\n",
      "84\n",
      "doc_type: Technische FAQ BEG EM\n",
      "page: Nr.: 1.01\n",
      "type: Text\n",
      "source: Technische FAQ BEG EM_3 (2021-10-21).pdf\n",
      "path: \n",
      "version: 3\n",
      "valid_date: 21/10/2021\n",
      "80\n",
      "doc_type: Technische FAQ BEG EM\n",
      "page: Nr.: 1.01\n",
      "type: Text\n",
      "source: Technische FAQ BEG EM_5 (2023-03-13).pdf\n",
      "path: \n",
      "version: 5\n",
      "valid_date: 13/03/2023\n"
     ]
    }
   ],
   "source": [
    "for i in dockies:\n",
    "    print(f'{len(i)}')\n",
    "    for key, value in i[1].metadata.items():\n",
    "        print(f\"{key}: {value}\")"
   ]
  }
 ],
 "metadata": {
  "kernelspec": {
   "display_name": "rag_unstructured",
   "language": "python",
   "name": "python3"
  },
  "language_info": {
   "codemirror_mode": {
    "name": "ipython",
    "version": 3
   },
   "file_extension": ".py",
   "mimetype": "text/x-python",
   "name": "python",
   "nbconvert_exporter": "python",
   "pygments_lexer": "ipython3",
   "version": "3.10.14"
  }
 },
 "nbformat": 4,
 "nbformat_minor": 2
}
