{
 "cells": [
  {
   "cell_type": "code",
   "execution_count": 1,
   "metadata": {},
   "outputs": [
    {
     "name": "stderr",
     "output_type": "stream",
     "text": [
      "/Users/rodolfocacacho/miniforge3/envs/rag_unstructured/lib/python3.10/site-packages/transformers/tokenization_utils_base.py:1601: FutureWarning: `clean_up_tokenization_spaces` was not set. It will be set to `True` by default. This behavior will be depracted in transformers v4.45, and will be then set to `False` by default. For more details check this issue: https://github.com/huggingface/transformers/issues/31884\n",
      "  warnings.warn(\n"
     ]
    }
   ],
   "source": [
    "from transformers import BertTokenizerFast  # !pip install transformers\n",
    "\n",
    "# load bert tokenizer from huggingface\n",
    "tokenizer = BertTokenizerFast.from_pretrained(\n",
    "   'bert-base-german-cased'\n",
    ")\n"
   ]
  },
  {
   "cell_type": "code",
   "execution_count": 7,
   "metadata": {},
   "outputs": [
    {
     "name": "stdout",
     "output_type": "stream",
     "text": [
      "Special tokens: {'unk_token': '[UNK]', 'sep_token': '[SEP]', 'pad_token': '[PAD]', 'cls_token': '[CLS]', 'mask_token': '[MASK]'}\n",
      "Special token IDs: [2, 4, 0, 3, 5]\n"
     ]
    }
   ],
   "source": [
    "# Print the special tokens\n",
    "print(\"Special tokens:\", tokenizer.special_tokens_map)\n",
    "\n",
    "# Optionally, you can also print the IDs for these tokens\n",
    "print(\"Special token IDs:\", tokenizer.convert_tokens_to_ids(list(tokenizer.special_tokens_map.values())))"
   ]
  },
  {
   "cell_type": "code",
   "execution_count": 2,
   "metadata": {},
   "outputs": [
    {
     "data": {
      "text/plain": [
       "dict_keys(['input_ids', 'token_type_ids', 'attention_mask'])"
      ]
     },
     "execution_count": 2,
     "metadata": {},
     "output_type": "execute_result"
    }
   ],
   "source": [
    "contexts = ['Hallo, ich fahre nach Berlin',\n",
    "            'Ich war gestern auf der Wiesn',\n",
    "            'Ich bin gerade in einem ICE und es ist ungeheuer nervig wegen ein paar Typen']\n",
    "\n",
    "# tokenize the context passage\n",
    "inputs = tokenizer(\n",
    "   contexts[0], padding=True, truncation=True,\n",
    "   max_length=512\n",
    ")\n",
    "inputs.keys()\n"
   ]
  },
  {
   "cell_type": "code",
   "execution_count": 3,
   "metadata": {},
   "outputs": [
    {
     "data": {
      "text/plain": [
       "[3, 5850, 26910, 26918, 1169, 5137, 26897, 188, 715, 4]"
      ]
     },
     "execution_count": 3,
     "metadata": {},
     "output_type": "execute_result"
    }
   ],
   "source": [
    "input_ids = inputs['input_ids']\n",
    "input_ids\n"
   ]
  },
  {
   "cell_type": "code",
   "execution_count": 4,
   "metadata": {},
   "outputs": [
    {
     "data": {
      "text/plain": [
       "{3: 1,\n",
       " 5850: 1,\n",
       " 26910: 1,\n",
       " 26918: 1,\n",
       " 1169: 1,\n",
       " 5137: 1,\n",
       " 26897: 1,\n",
       " 188: 1,\n",
       " 715: 1,\n",
       " 4: 1}"
      ]
     },
     "execution_count": 4,
     "metadata": {},
     "output_type": "execute_result"
    }
   ],
   "source": [
    "from collections import Counter\n",
    "\n",
    "# convert the input_ids list to a dictionary of key to frequency values\n",
    "sparse_vec = dict(Counter(input_ids))\n",
    "sparse_vec\n"
   ]
  },
  {
   "cell_type": "code",
   "execution_count": 8,
   "metadata": {},
   "outputs": [],
   "source": [
    "def build_dict(input_batch):\n",
    "  # store a batch of sparse embeddings\n",
    "    sparse_emb = []\n",
    "    # iterate through input batch\n",
    "    for token_ids in input_batch:\n",
    "        # convert the input_ids list to a dictionary of key to frequency values\n",
    "        d = dict(Counter(token_ids))\n",
    "        # remove special tokens and append sparse vectors to sparse_emb list\n",
    "        sparse_emb.append({key: d[key] for key in d if key not in [2,4,0,3,5]})\n",
    "    # return sparse_emb list\n",
    "    return sparse_emb\n",
    "\n",
    "def generate_sparse_vectors(context_batch):\n",
    "    # create batch of input_ids\n",
    "    inputs = tokenizer(\n",
    "            context_batch, padding=True,\n",
    "            truncation=True,\n",
    "            max_length=512\n",
    "    )['input_ids']\n",
    "    # create sparse dictionaries\n",
    "    sparse_embeds = build_dict(inputs)\n",
    "    return sparse_embeds"
   ]
  },
  {
   "cell_type": "code",
   "execution_count": 9,
   "metadata": {},
   "outputs": [
    {
     "data": {
      "text/plain": [
       "[{5850: 1, 26910: 1, 26918: 1, 1169: 1, 5137: 1, 26897: 1, 188: 1, 715: 1},\n",
       " {1671: 1, 185: 1, 12656: 1, 115: 1, 21: 1, 26638: 1},\n",
       " {1671: 1,\n",
       "  4058: 1,\n",
       "  2023: 1,\n",
       "  50: 1,\n",
       "  297: 1,\n",
       "  25675: 1,\n",
       "  42: 1,\n",
       "  229: 1,\n",
       "  127: 1,\n",
       "  4926: 1,\n",
       "  208: 1,\n",
       "  667: 1,\n",
       "  20790: 1,\n",
       "  80: 1,\n",
       "  1026: 1,\n",
       "  39: 1,\n",
       "  4895: 1,\n",
       "  15949: 1}]"
      ]
     },
     "execution_count": 9,
     "metadata": {},
     "output_type": "execute_result"
    }
   ],
   "source": [
    "generate_sparse_vectors(contexts)"
   ]
  },
  {
   "cell_type": "code",
   "execution_count": 25,
   "metadata": {},
   "outputs": [
    {
     "name": "stdout",
     "output_type": "stream",
     "text": [
      "Hallo, ich fahre nach Berlin\n",
      "Ich war gestern auf der Wiesn\n",
      "Ich bin gerade in einem ICE und es ist ungeheuer nervig wegen ein paar Typen\n",
      "[5850, 26910, 26918, 1169, 5137, 26897, 188, 715]\n",
      "[1, 1, 1, 1, 1, 1, 1, 1]\n",
      "[1671, 185, 12656, 115, 21, 26638]\n",
      "[1, 1, 1, 1, 1, 1]\n",
      "[1671, 4058, 2023, 50, 297, 25675, 42, 229, 127, 4926, 208, 667, 20790, 80, 1026, 39, 4895, 15949]\n",
      "[1, 1, 1, 1, 1, 1, 1, 1, 1, 1, 1, 1, 1, 1, 1, 1, 1, 1]\n"
     ]
    }
   ],
   "source": [
    "embeds_list = []\n",
    "for i in contexts:\n",
    "    print(i)\n",
    "    embeds_list.append(generate_sparse_vectors([i]))\n",
    "\n",
    "for j in embeds_list:\n",
    "    print(list(j[0].keys()))\n",
    "    print(list(j[0].values()))"
   ]
  },
  {
   "cell_type": "code",
   "execution_count": 10,
   "metadata": {},
   "outputs": [
    {
     "ename": "TypeError",
     "evalue": "'int' object is not iterable",
     "output_type": "error",
     "traceback": [
      "\u001b[0;31m---------------------------------------------------------------------------\u001b[0m",
      "\u001b[0;31mTypeError\u001b[0m                                 Traceback (most recent call last)",
      "Cell \u001b[0;32mIn[10], line 1\u001b[0m\n\u001b[0;32m----> 1\u001b[0m [generate_sparse_vectors(i) \u001b[38;5;28;01mfor\u001b[39;00m i \u001b[38;5;129;01min\u001b[39;00m contexts]\n",
      "Cell \u001b[0;32mIn[10], line 1\u001b[0m, in \u001b[0;36m<listcomp>\u001b[0;34m(.0)\u001b[0m\n\u001b[0;32m----> 1\u001b[0m [\u001b[43mgenerate_sparse_vectors\u001b[49m\u001b[43m(\u001b[49m\u001b[43mi\u001b[49m\u001b[43m)\u001b[49m \u001b[38;5;28;01mfor\u001b[39;00m i \u001b[38;5;129;01min\u001b[39;00m contexts]\n",
      "Cell \u001b[0;32mIn[8], line 21\u001b[0m, in \u001b[0;36mgenerate_sparse_vectors\u001b[0;34m(context_batch)\u001b[0m\n\u001b[1;32m     15\u001b[0m inputs \u001b[38;5;241m=\u001b[39m tokenizer(\n\u001b[1;32m     16\u001b[0m         context_batch, padding\u001b[38;5;241m=\u001b[39m\u001b[38;5;28;01mTrue\u001b[39;00m,\n\u001b[1;32m     17\u001b[0m         truncation\u001b[38;5;241m=\u001b[39m\u001b[38;5;28;01mTrue\u001b[39;00m,\n\u001b[1;32m     18\u001b[0m         max_length\u001b[38;5;241m=\u001b[39m\u001b[38;5;241m512\u001b[39m\n\u001b[1;32m     19\u001b[0m )[\u001b[38;5;124m'\u001b[39m\u001b[38;5;124minput_ids\u001b[39m\u001b[38;5;124m'\u001b[39m]\n\u001b[1;32m     20\u001b[0m \u001b[38;5;66;03m# create sparse dictionaries\u001b[39;00m\n\u001b[0;32m---> 21\u001b[0m sparse_embeds \u001b[38;5;241m=\u001b[39m \u001b[43mbuild_dict\u001b[49m\u001b[43m(\u001b[49m\u001b[43minputs\u001b[49m\u001b[43m)\u001b[49m\n\u001b[1;32m     22\u001b[0m \u001b[38;5;28;01mreturn\u001b[39;00m sparse_embeds\n",
      "Cell \u001b[0;32mIn[8], line 7\u001b[0m, in \u001b[0;36mbuild_dict\u001b[0;34m(input_batch)\u001b[0m\n\u001b[1;32m      4\u001b[0m \u001b[38;5;66;03m# iterate through input batch\u001b[39;00m\n\u001b[1;32m      5\u001b[0m \u001b[38;5;28;01mfor\u001b[39;00m token_ids \u001b[38;5;129;01min\u001b[39;00m input_batch:\n\u001b[1;32m      6\u001b[0m     \u001b[38;5;66;03m# convert the input_ids list to a dictionary of key to frequency values\u001b[39;00m\n\u001b[0;32m----> 7\u001b[0m     d \u001b[38;5;241m=\u001b[39m \u001b[38;5;28mdict\u001b[39m(\u001b[43mCounter\u001b[49m\u001b[43m(\u001b[49m\u001b[43mtoken_ids\u001b[49m\u001b[43m)\u001b[49m)\n\u001b[1;32m      8\u001b[0m     \u001b[38;5;66;03m# remove special tokens and append sparse vectors to sparse_emb list\u001b[39;00m\n\u001b[1;32m      9\u001b[0m     sparse_emb\u001b[38;5;241m.\u001b[39mappend({key: d[key] \u001b[38;5;28;01mfor\u001b[39;00m key \u001b[38;5;129;01min\u001b[39;00m d \u001b[38;5;28;01mif\u001b[39;00m key \u001b[38;5;129;01mnot\u001b[39;00m \u001b[38;5;129;01min\u001b[39;00m [\u001b[38;5;241m2\u001b[39m,\u001b[38;5;241m4\u001b[39m,\u001b[38;5;241m0\u001b[39m,\u001b[38;5;241m3\u001b[39m,\u001b[38;5;241m5\u001b[39m]})\n",
      "File \u001b[0;32m~/miniforge3/envs/rag_unstructured/lib/python3.10/collections/__init__.py:577\u001b[0m, in \u001b[0;36mCounter.__init__\u001b[0;34m(self, iterable, **kwds)\u001b[0m\n\u001b[1;32m    566\u001b[0m \u001b[38;5;250m\u001b[39m\u001b[38;5;124;03m'''Create a new, empty Counter object.  And if given, count elements\u001b[39;00m\n\u001b[1;32m    567\u001b[0m \u001b[38;5;124;03mfrom an input iterable.  Or, initialize the count from another mapping\u001b[39;00m\n\u001b[1;32m    568\u001b[0m \u001b[38;5;124;03mof elements to their counts.\u001b[39;00m\n\u001b[0;32m   (...)\u001b[0m\n\u001b[1;32m    574\u001b[0m \n\u001b[1;32m    575\u001b[0m \u001b[38;5;124;03m'''\u001b[39;00m\n\u001b[1;32m    576\u001b[0m \u001b[38;5;28msuper\u001b[39m()\u001b[38;5;241m.\u001b[39m\u001b[38;5;21m__init__\u001b[39m()\n\u001b[0;32m--> 577\u001b[0m \u001b[38;5;28;43mself\u001b[39;49m\u001b[38;5;241;43m.\u001b[39;49m\u001b[43mupdate\u001b[49m\u001b[43m(\u001b[49m\u001b[43miterable\u001b[49m\u001b[43m,\u001b[49m\u001b[43m \u001b[49m\u001b[38;5;241;43m*\u001b[39;49m\u001b[38;5;241;43m*\u001b[39;49m\u001b[43mkwds\u001b[49m\u001b[43m)\u001b[49m\n",
      "File \u001b[0;32m~/miniforge3/envs/rag_unstructured/lib/python3.10/collections/__init__.py:670\u001b[0m, in \u001b[0;36mCounter.update\u001b[0;34m(self, iterable, **kwds)\u001b[0m\n\u001b[1;32m    668\u001b[0m             \u001b[38;5;28msuper\u001b[39m()\u001b[38;5;241m.\u001b[39mupdate(iterable)\n\u001b[1;32m    669\u001b[0m     \u001b[38;5;28;01melse\u001b[39;00m:\n\u001b[0;32m--> 670\u001b[0m         \u001b[43m_count_elements\u001b[49m\u001b[43m(\u001b[49m\u001b[38;5;28;43mself\u001b[39;49m\u001b[43m,\u001b[49m\u001b[43m \u001b[49m\u001b[43miterable\u001b[49m\u001b[43m)\u001b[49m\n\u001b[1;32m    671\u001b[0m \u001b[38;5;28;01mif\u001b[39;00m kwds:\n\u001b[1;32m    672\u001b[0m     \u001b[38;5;28mself\u001b[39m\u001b[38;5;241m.\u001b[39mupdate(kwds)\n",
      "\u001b[0;31mTypeError\u001b[0m: 'int' object is not iterable"
     ]
    }
   ],
   "source": [
    "[generate_sparse_vectors(i) for i in contexts]"
   ]
  },
  {
   "cell_type": "code",
   "execution_count": null,
   "metadata": {},
   "outputs": [],
   "source": [
    "def hybrid_scale(dense, sparse, alpha: float = 0.5):\n",
    "    # check alpha value is in range\n",
    "    if alpha < 0 or alpha > 1:\n",
    "        raise ValueError(\"Alpha must be between 0 and 1\")\n",
    "    # scale sparse and dense vectors to create hybrid search vecs\n",
    "    hsparse = {\n",
    "        'indices': sparse['indices'],\n",
    "        'values':  [v * (1 - alpha) for v in sparse['values']]\n",
    "    }\n",
    "    hdense = [v * alpha for v in dense]\n",
    "    return hdense, hsparse\n",
    "\n",
    "\n",
    "def hybrid_query(question, top_k, alpha):\n",
    "   # convert the question into a sparse vector\n",
    "   sparse_vec = generate_sparse_vectors([question])[0]\n",
    "   # convert the question into a dense vector\n",
    "   dense_vec = model.encode([question]).tolist()\n",
    "   # scale alpha with hybrid_scale\n",
    "   dense_vec, sparse_vec = hybrid_scale(\n",
    "      dense_vec, sparse_vec, alpha\n",
    "   )\n",
    "   # query pinecone with the query parameters\n",
    "   result = pinecone.query(\n",
    "      vector=dense_vec,\n",
    "      sparse_vector=sparse_vec[0],\n",
    "      top_k=top_k,\n",
    "      include_metadata=True\n",
    "   )\n",
    "   # return search results as json\n",
    "   return result\n"
   ]
  }
 ],
 "metadata": {
  "kernelspec": {
   "display_name": "rag_unstructured",
   "language": "python",
   "name": "python3"
  },
  "language_info": {
   "codemirror_mode": {
    "name": "ipython",
    "version": 3
   },
   "file_extension": ".py",
   "mimetype": "text/x-python",
   "name": "python",
   "nbconvert_exporter": "python",
   "pygments_lexer": "ipython3",
   "version": "3.10.14"
  }
 },
 "nbformat": 4,
 "nbformat_minor": 2
}
