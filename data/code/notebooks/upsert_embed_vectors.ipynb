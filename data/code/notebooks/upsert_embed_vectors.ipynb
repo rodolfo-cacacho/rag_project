{
 "cells": [
  {
   "cell_type": "code",
   "execution_count": 1,
   "metadata": {},
   "outputs": [],
   "source": [
    "import sys\n",
    "import os\n",
    "from dotenv import load_dotenv\n",
    "\n",
    "load_dotenv()\n",
    "\n",
    "# Set the root directory of your project\n",
    "project_root = '/Users/rodolfocacacho/Documents/Documents/MAI/Master Thesis/Code/rag_project'\n",
    "\n",
    "# Add the root directory to sys.path\n",
    "if project_root not in sys.path:\n",
    "    sys.path.append(project_root)"
   ]
  },
  {
   "cell_type": "code",
   "execution_count": 2,
   "metadata": {},
   "outputs": [
    {
     "name": "stderr",
     "output_type": "stream",
     "text": [
      "[nltk_data] Downloading package stopwords to\n",
      "[nltk_data]     /Users/rodolfocacacho/nltk_data...\n",
      "[nltk_data]   Package stopwords is already up-to-date!\n"
     ]
    }
   ],
   "source": [
    "import os\n",
    "from utils.pinecone_hybrid_connector import PineconeDBConnectorHybrid\n",
    "from utils.MySQLDB_manager import MySQLDB\n",
    "from utils.chunking_embedding import config as process_and_upload,embedding_bm25_calculation\n",
    "from config import DB_NAME,CONFIG_SQL_DB\n",
    "from utils.embedding_handler import EmbeddingHandler\n",
    "from dotenv import load_dotenv\n",
    "\n",
    "load_dotenv()\n",
    "\n",
    "API_PINE_CONE = os.getenv('API_PINE_CONE')\n",
    "\n",
    "root_dir = '/Users/rodolfocacacho/Documents/Documents/MAI/Master Thesis/Code/rag_clean_v2'\n",
    "original_dir = os.getcwd()\n",
    "os.chdir(root_dir)\n",
    "\n",
    "output_dir = 'data/storage/tables'\n",
    "\n",
    "# SQL Tables\n",
    "table_documents_name = 'table_documents'\n",
    "\n",
    "max_tokens = 500\n",
    "suffix = 'clean'\n",
    "sql_chunks_table = f'chunks_table_{suffix}_{max_tokens}'\n",
    "sql_table_vocab = f'vocabulary_bm25_{suffix}_{max_tokens}'\n",
    "\n",
    "\n",
    "sql_con = MySQLDB(config=CONFIG_SQL_DB,database_name=DB_NAME)\n"
   ]
  },
  {
   "cell_type": "code",
   "execution_count": 3,
   "metadata": {},
   "outputs": [
    {
     "name": "stdout",
     "output_type": "stream",
     "text": [
      "Data retrieved from database table 'chunks_table_clean_500'.\n"
     ]
    }
   ],
   "source": [
    "upsert_list = embedding_bm25_calculation(sql_con=sql_con,\n",
    "                                        table_name=sql_chunks_table,\n",
    "                                        table_store=sql_table_vocab)"
   ]
  },
  {
   "cell_type": "code",
   "execution_count": 4,
   "metadata": {},
   "outputs": [
    {
     "ename": "TypeError",
     "evalue": "PineconeDBConnectorHybrid.__init__() got an unexpected keyword argument 'embedding_model_name_dense'",
     "output_type": "error",
     "traceback": [
      "\u001b[0;31m---------------------------------------------------------------------------\u001b[0m",
      "\u001b[0;31mTypeError\u001b[0m                                 Traceback (most recent call last)",
      "Cell \u001b[0;32mIn[4], line 8\u001b[0m\n\u001b[1;32m      4\u001b[0m model_dimension \u001b[38;5;241m=\u001b[39m \u001b[38;5;241m768\u001b[39m\n\u001b[1;32m      6\u001b[0m index_name \u001b[38;5;241m=\u001b[39m \u001b[38;5;124mf\u001b[39m\u001b[38;5;124m'\u001b[39m\u001b[38;5;132;01m{\u001b[39;00membed_model_name\u001b[38;5;132;01m}\u001b[39;00m\u001b[38;5;124m-\u001b[39m\u001b[38;5;132;01m{\u001b[39;00msuffix\u001b[38;5;132;01m}\u001b[39;00m\u001b[38;5;124m-\u001b[39m\u001b[38;5;132;01m{\u001b[39;00mmax_tokens\u001b[38;5;132;01m}\u001b[39;00m\u001b[38;5;124m'\u001b[39m\n\u001b[0;32m----> 8\u001b[0m vec_con \u001b[38;5;241m=\u001b[39m \u001b[43mPineconeDBConnectorHybrid\u001b[49m\u001b[43m(\u001b[49m\u001b[43mapi_key\u001b[49m\u001b[38;5;241;43m=\u001b[39;49m\u001b[43mAPI_PINE_CONE\u001b[49m\u001b[43m,\u001b[49m\n\u001b[1;32m      9\u001b[0m \u001b[43m                                    \u001b[49m\u001b[43mindex_name\u001b[49m\u001b[38;5;241;43m=\u001b[39;49m\u001b[43mindex_name\u001b[49m\u001b[43m,\u001b[49m\n\u001b[1;32m     10\u001b[0m \u001b[43m                                    \u001b[49m\u001b[43membedding_model_name_dense\u001b[49m\u001b[38;5;241;43m=\u001b[39;49m\u001b[43membed_model\u001b[49m\u001b[43m,\u001b[49m\n\u001b[1;32m     11\u001b[0m \u001b[43m                                    \u001b[49m\u001b[43mdimension\u001b[49m\u001b[38;5;241;43m=\u001b[39;49m\u001b[43mmodel_dimension\u001b[49m\u001b[43m)\u001b[49m\n\u001b[1;32m     14\u001b[0m embedding_handler \u001b[38;5;241m=\u001b[39m EmbeddingHandler(\n\u001b[1;32m     15\u001b[0m     model_name\u001b[38;5;241m=\u001b[39membed_model,  \u001b[38;5;66;03m# Replace with your transformer model\u001b[39;00m\n\u001b[1;32m     16\u001b[0m     use_api\u001b[38;5;241m=\u001b[39m\u001b[38;5;28;01mFalse\u001b[39;00m,  \u001b[38;5;66;03m# Set to True if using API\u001b[39;00m\n\u001b[1;32m     17\u001b[0m )\n\u001b[1;32m     19\u001b[0m process_and_upload(chunks\u001b[38;5;241m=\u001b[39mupsert_list,\n\u001b[1;32m     20\u001b[0m                    pinecone_connector\u001b[38;5;241m=\u001b[39mvec_con,\n\u001b[1;32m     21\u001b[0m                    embedding_handler\u001b[38;5;241m=\u001b[39membedding_handler,\n\u001b[1;32m     22\u001b[0m                    use_sparse\u001b[38;5;241m=\u001b[39m\u001b[38;5;28;01mTrue\u001b[39;00m\n\u001b[1;32m     23\u001b[0m                    )\n",
      "\u001b[0;31mTypeError\u001b[0m: PineconeDBConnectorHybrid.__init__() got an unexpected keyword argument 'embedding_model_name_dense'"
     ]
    }
   ],
   "source": [
    "embed_model = \"jinaai/jina-embeddings-v2-base-de\"\n",
    "embed_model_name = embed_model.split(\"/\")[1]\n",
    "\n",
    "model_dimension = 768\n",
    "\n",
    "index_name = f'{embed_model_name}-{suffix}-{max_tokens}'\n",
    "\n",
    "vec_con = PineconeDBConnectorHybrid(api_key=API_PINE_CONE,\n",
    "                                    index_name=index_name,\n",
    "                                    embedding_model_name_dense=embed_model,\n",
    "                                    dimension=model_dimension)\n",
    "\n",
    "\n",
    "embedding_handler = EmbeddingHandler(\n",
    "    model_name=embed_model,  # Replace with your transformer model\n",
    "    use_api=False,  # Set to True if using API\n",
    ")\n",
    "\n",
    "process_and_upload(chunks=upsert_list,\n",
    "                   pinecone_connector=vec_con,\n",
    "                   embedding_handler=embedding_handler,\n",
    "                   use_sparse=True\n",
    "                   )\n"
   ]
  },
  {
   "cell_type": "code",
   "execution_count": null,
   "metadata": {},
   "outputs": [
    {
     "name": "stdout",
     "output_type": "stream",
     "text": [
      "Embedding Dimension: 1024\n",
      "Using existing Pinecone index: jina-embeddings-v3-clean-250\n"
     ]
    },
    {
     "data": {
      "application/vnd.jupyter.widget-view+json": {
       "model_id": "15122bb182a9423ea5aaf6d39738fa21",
       "version_major": 2,
       "version_minor": 0
      },
      "text/plain": [
       "mha.py:   0%|          | 0.00/34.4k [00:00<?, ?B/s]"
      ]
     },
     "metadata": {},
     "output_type": "display_data"
    },
    {
     "data": {
      "application/vnd.jupyter.widget-view+json": {
       "model_id": "2245c9b2d1834f6cb0b7bfb6e4a5f5ab",
       "version_major": 2,
       "version_minor": 0
      },
      "text/plain": [
       "rotary.py:   0%|          | 0.00/24.5k [00:00<?, ?B/s]"
      ]
     },
     "metadata": {},
     "output_type": "display_data"
    },
    {
     "name": "stderr",
     "output_type": "stream",
     "text": [
      "A new version of the following files was downloaded from https://huggingface.co/jinaai/xlm-roberta-flash-implementation:\n",
      "- rotary.py\n",
      ". Make sure to double-check they do not contain any added malicious code. To avoid downloading new versions of the code file, you can pin a revision.\n",
      "A new version of the following files was downloaded from https://huggingface.co/jinaai/xlm-roberta-flash-implementation:\n",
      "- mha.py\n",
      "- rotary.py\n",
      ". Make sure to double-check they do not contain any added malicious code. To avoid downloading new versions of the code file, you can pin a revision.\n"
     ]
    },
    {
     "data": {
      "application/vnd.jupyter.widget-view+json": {
       "model_id": "bd0c8db1a37349299552e22f848aff97",
       "version_major": 2,
       "version_minor": 0
      },
      "text/plain": [
       "block.py:   0%|          | 0.00/17.8k [00:00<?, ?B/s]"
      ]
     },
     "metadata": {},
     "output_type": "display_data"
    },
    {
     "data": {
      "application/vnd.jupyter.widget-view+json": {
       "model_id": "1b14aeab391743368f529beff4ddd2ab",
       "version_major": 2,
       "version_minor": 0
      },
      "text/plain": [
       "stochastic_depth.py:   0%|          | 0.00/3.76k [00:00<?, ?B/s]"
      ]
     },
     "metadata": {},
     "output_type": "display_data"
    },
    {
     "name": "stderr",
     "output_type": "stream",
     "text": [
      "A new version of the following files was downloaded from https://huggingface.co/jinaai/xlm-roberta-flash-implementation:\n",
      "- stochastic_depth.py\n",
      ". Make sure to double-check they do not contain any added malicious code. To avoid downloading new versions of the code file, you can pin a revision.\n"
     ]
    },
    {
     "data": {
      "application/vnd.jupyter.widget-view+json": {
       "model_id": "9e7a61f5bd1f412b91c5cdb9a9199063",
       "version_major": 2,
       "version_minor": 0
      },
      "text/plain": [
       "mlp.py:   0%|          | 0.00/7.62k [00:00<?, ?B/s]"
      ]
     },
     "metadata": {},
     "output_type": "display_data"
    },
    {
     "name": "stderr",
     "output_type": "stream",
     "text": [
      "A new version of the following files was downloaded from https://huggingface.co/jinaai/xlm-roberta-flash-implementation:\n",
      "- mlp.py\n",
      ". Make sure to double-check they do not contain any added malicious code. To avoid downloading new versions of the code file, you can pin a revision.\n",
      "A new version of the following files was downloaded from https://huggingface.co/jinaai/xlm-roberta-flash-implementation:\n",
      "- block.py\n",
      "- stochastic_depth.py\n",
      "- mlp.py\n",
      ". Make sure to double-check they do not contain any added malicious code. To avoid downloading new versions of the code file, you can pin a revision.\n"
     ]
    },
    {
     "data": {
      "application/vnd.jupyter.widget-view+json": {
       "model_id": "45d3bb4a6c3941bd9a832a0537e02e68",
       "version_major": 2,
       "version_minor": 0
      },
      "text/plain": [
       "modeling_xlm_roberta.py:   0%|          | 0.00/50.0k [00:00<?, ?B/s]"
      ]
     },
     "metadata": {},
     "output_type": "display_data"
    },
    {
     "data": {
      "application/vnd.jupyter.widget-view+json": {
       "model_id": "372c9dbbf62147c3a5fc6cf94625a49d",
       "version_major": 2,
       "version_minor": 0
      },
      "text/plain": [
       "embedding.py:   0%|          | 0.00/3.88k [00:00<?, ?B/s]"
      ]
     },
     "metadata": {},
     "output_type": "display_data"
    },
    {
     "name": "stderr",
     "output_type": "stream",
     "text": [
      "A new version of the following files was downloaded from https://huggingface.co/jinaai/xlm-roberta-flash-implementation:\n",
      "- embedding.py\n",
      ". Make sure to double-check they do not contain any added malicious code. To avoid downloading new versions of the code file, you can pin a revision.\n",
      "A new version of the following files was downloaded from https://huggingface.co/jinaai/xlm-roberta-flash-implementation:\n",
      "- modeling_xlm_roberta.py\n",
      "- embedding.py\n",
      ". Make sure to double-check they do not contain any added malicious code. To avoid downloading new versions of the code file, you can pin a revision.\n",
      "A new version of the following files was downloaded from https://huggingface.co/jinaai/xlm-roberta-flash-implementation:\n",
      "- xlm_padding.py\n",
      "- mha.py\n",
      "- block.py\n",
      "- modeling_xlm_roberta.py\n",
      ". Make sure to double-check they do not contain any added malicious code. To avoid downloading new versions of the code file, you can pin a revision.\n"
     ]
    },
    {
     "data": {
      "application/vnd.jupyter.widget-view+json": {
       "model_id": "be40a9d086f3487d9b33f3888f5d8388",
       "version_major": 2,
       "version_minor": 0
      },
      "text/plain": [
       "model.safetensors:   0%|          | 0.00/1.14G [00:00<?, ?B/s]"
      ]
     },
     "metadata": {},
     "output_type": "display_data"
    },
    {
     "data": {
      "application/vnd.jupyter.widget-view+json": {
       "model_id": "c54e7c7b509b44b0b8bb0367b352d6e7",
       "version_major": 2,
       "version_minor": 0
      },
      "text/plain": [
       "tokenizer_config.json:   0%|          | 0.00/1.15k [00:00<?, ?B/s]"
      ]
     },
     "metadata": {},
     "output_type": "display_data"
    },
    {
     "data": {
      "application/vnd.jupyter.widget-view+json": {
       "model_id": "321f0afb12674138bfba006817a4684a",
       "version_major": 2,
       "version_minor": 0
      },
      "text/plain": [
       "tokenizer.json:   0%|          | 0.00/17.1M [00:00<?, ?B/s]"
      ]
     },
     "metadata": {},
     "output_type": "display_data"
    },
    {
     "data": {
      "application/vnd.jupyter.widget-view+json": {
       "model_id": "fada7a42f4e64a3f8b082ce81f6e7885",
       "version_major": 2,
       "version_minor": 0
      },
      "text/plain": [
       "special_tokens_map.json:   0%|          | 0.00/964 [00:00<?, ?B/s]"
      ]
     },
     "metadata": {},
     "output_type": "display_data"
    },
    {
     "data": {
      "application/vnd.jupyter.widget-view+json": {
       "model_id": "659f39b035fe4618ab17eca6645501d6",
       "version_major": 2,
       "version_minor": 0
      },
      "text/plain": [
       "1_Pooling/config.json:   0%|          | 0.00/192 [00:00<?, ?B/s]"
      ]
     },
     "metadata": {},
     "output_type": "display_data"
    },
    {
     "name": "stderr",
     "output_type": "stream",
     "text": [
      "Processing Batches:   0%|          | 0/108 [00:00<?, ?batch/s]"
     ]
    },
    {
     "name": "stdout",
     "output_type": "stream",
     "text": [
      "Uploaded batch 1/1\n",
      "Uploaded batch 1/1\n",
      "Uploaded batch 1/1\n"
     ]
    },
    {
     "name": "stderr",
     "output_type": "stream",
     "text": [
      "Processing Batches:   1%|          | 1/108 [00:56<1:40:36, 56.42s/batch]"
     ]
    },
    {
     "name": "stdout",
     "output_type": "stream",
     "text": [
      "Uploaded batch 1/1\n",
      "Uploaded batch 1/1\n",
      "Uploaded batch 1/1\n",
      "Uploaded batch 1/1\n"
     ]
    },
    {
     "name": "stderr",
     "output_type": "stream",
     "text": [
      "Processing Batches:   2%|▏         | 2/108 [01:45<1:31:55, 52.04s/batch]"
     ]
    },
    {
     "name": "stdout",
     "output_type": "stream",
     "text": [
      "Uploaded batch 1/1\n",
      "Uploaded batch 1/1\n",
      "Uploaded batch 1/1\n",
      "Uploaded batch 1/1\n"
     ]
    },
    {
     "name": "stderr",
     "output_type": "stream",
     "text": [
      "Processing Batches:   3%|▎         | 3/108 [02:30<1:25:12, 48.69s/batch]"
     ]
    },
    {
     "name": "stdout",
     "output_type": "stream",
     "text": [
      "Uploaded batch 1/1\n",
      "Uploaded batch 1/1\n",
      "Uploaded batch 1/1\n",
      "Uploaded batch 1/1\n"
     ]
    },
    {
     "name": "stderr",
     "output_type": "stream",
     "text": [
      "Processing Batches:   4%|▎         | 4/108 [03:12<1:20:07, 46.23s/batch]"
     ]
    },
    {
     "name": "stdout",
     "output_type": "stream",
     "text": [
      "Uploaded batch 1/1\n",
      "Uploaded batch 1/1\n",
      "Uploaded batch 1/1\n",
      "Uploaded batch 1/1\n"
     ]
    },
    {
     "name": "stderr",
     "output_type": "stream",
     "text": [
      "Processing Batches:   5%|▍         | 5/108 [03:55<1:17:32, 45.17s/batch]"
     ]
    },
    {
     "name": "stdout",
     "output_type": "stream",
     "text": [
      "Uploaded batch 1/1\n",
      "Uploaded batch 1/1\n",
      "Uploaded batch 1/1\n",
      "Uploaded batch 1/1\n"
     ]
    },
    {
     "name": "stderr",
     "output_type": "stream",
     "text": [
      "Processing Batches:   6%|▌         | 6/108 [04:40<1:16:39, 45.09s/batch]"
     ]
    },
    {
     "name": "stdout",
     "output_type": "stream",
     "text": [
      "Uploaded batch 1/1\n",
      "Uploaded batch 1/1\n",
      "Uploaded batch 1/1\n",
      "Uploaded batch 1/1\n"
     ]
    },
    {
     "name": "stderr",
     "output_type": "stream",
     "text": [
      "Processing Batches:   6%|▋         | 7/108 [05:26<1:16:03, 45.18s/batch]"
     ]
    },
    {
     "name": "stdout",
     "output_type": "stream",
     "text": [
      "Uploaded batch 1/1\n",
      "Uploaded batch 1/1\n",
      "Uploaded batch 1/1\n",
      "Uploaded batch 1/1\n"
     ]
    },
    {
     "name": "stderr",
     "output_type": "stream",
     "text": [
      "Processing Batches:   7%|▋         | 8/108 [06:12<1:16:10, 45.70s/batch]"
     ]
    },
    {
     "name": "stdout",
     "output_type": "stream",
     "text": [
      "Uploaded batch 1/1\n",
      "Uploaded batch 1/1\n",
      "Uploaded batch 1/1\n",
      "Uploaded batch 1/1\n"
     ]
    },
    {
     "name": "stderr",
     "output_type": "stream",
     "text": [
      "Processing Batches:   8%|▊         | 9/108 [06:55<1:13:44, 44.69s/batch]"
     ]
    },
    {
     "name": "stdout",
     "output_type": "stream",
     "text": [
      "Uploaded batch 1/1\n",
      "Uploaded batch 1/1\n",
      "Uploaded batch 1/1\n",
      "Uploaded batch 1/1\n"
     ]
    },
    {
     "name": "stderr",
     "output_type": "stream",
     "text": [
      "Processing Batches:   9%|▉         | 10/108 [07:39<1:12:54, 44.63s/batch]"
     ]
    },
    {
     "name": "stdout",
     "output_type": "stream",
     "text": [
      "Uploaded batch 1/1\n",
      "Uploaded batch 1/1\n",
      "Uploaded batch 1/1\n",
      "Uploaded batch 1/1\n"
     ]
    },
    {
     "name": "stderr",
     "output_type": "stream",
     "text": [
      "Processing Batches:  10%|█         | 11/108 [08:23<1:11:48, 44.42s/batch]"
     ]
    },
    {
     "name": "stdout",
     "output_type": "stream",
     "text": [
      "Uploaded batch 1/1\n",
      "Uploaded batch 1/1\n",
      "Uploaded batch 1/1\n",
      "Uploaded batch 1/1\n"
     ]
    },
    {
     "name": "stderr",
     "output_type": "stream",
     "text": [
      "Processing Batches:  11%|█         | 12/108 [09:06<1:10:20, 43.96s/batch]"
     ]
    },
    {
     "name": "stdout",
     "output_type": "stream",
     "text": [
      "Uploaded batch 1/1\n",
      "Uploaded batch 1/1\n",
      "Uploaded batch 1/1\n",
      "Uploaded batch 1/1\n"
     ]
    },
    {
     "name": "stderr",
     "output_type": "stream",
     "text": [
      "Processing Batches:  12%|█▏        | 13/108 [09:49<1:08:58, 43.56s/batch]"
     ]
    },
    {
     "name": "stdout",
     "output_type": "stream",
     "text": [
      "Uploaded batch 1/1\n",
      "Uploaded batch 1/1\n",
      "Uploaded batch 1/1\n",
      "Uploaded batch 1/1\n"
     ]
    },
    {
     "name": "stderr",
     "output_type": "stream",
     "text": [
      "Processing Batches:  13%|█▎        | 14/108 [10:31<1:07:25, 43.04s/batch]"
     ]
    },
    {
     "name": "stdout",
     "output_type": "stream",
     "text": [
      "Uploaded batch 1/1\n",
      "Uploaded batch 1/1\n",
      "Uploaded batch 1/1\n",
      "Uploaded batch 1/1\n"
     ]
    },
    {
     "name": "stderr",
     "output_type": "stream",
     "text": [
      "Processing Batches:  14%|█▍        | 15/108 [11:12<1:05:47, 42.44s/batch]"
     ]
    },
    {
     "name": "stdout",
     "output_type": "stream",
     "text": [
      "Uploaded batch 1/1\n",
      "Uploaded batch 1/1\n",
      "Uploaded batch 1/1\n",
      "Uploaded batch 1/1\n"
     ]
    },
    {
     "name": "stderr",
     "output_type": "stream",
     "text": [
      "Processing Batches:  15%|█▍        | 16/108 [11:54<1:04:50, 42.28s/batch]"
     ]
    },
    {
     "name": "stdout",
     "output_type": "stream",
     "text": [
      "Uploaded batch 1/1\n",
      "Uploaded batch 1/1\n",
      "Uploaded batch 1/1\n",
      "Uploaded batch 1/1\n"
     ]
    },
    {
     "name": "stderr",
     "output_type": "stream",
     "text": [
      "Processing Batches:  16%|█▌        | 17/108 [12:37<1:04:26, 42.49s/batch]"
     ]
    },
    {
     "name": "stdout",
     "output_type": "stream",
     "text": [
      "Uploaded batch 1/1\n",
      "Uploaded batch 1/1\n",
      "Uploaded batch 1/1\n",
      "Uploaded batch 1/1\n"
     ]
    },
    {
     "name": "stderr",
     "output_type": "stream",
     "text": [
      "Processing Batches:  17%|█▋        | 18/108 [13:19<1:03:26, 42.30s/batch]"
     ]
    },
    {
     "name": "stdout",
     "output_type": "stream",
     "text": [
      "Uploaded batch 1/1\n",
      "Uploaded batch 1/1\n",
      "Uploaded batch 1/1\n",
      "Uploaded batch 1/1\n"
     ]
    },
    {
     "name": "stderr",
     "output_type": "stream",
     "text": [
      "Processing Batches:  18%|█▊        | 19/108 [14:01<1:02:52, 42.38s/batch]"
     ]
    },
    {
     "name": "stdout",
     "output_type": "stream",
     "text": [
      "Uploaded batch 1/1\n",
      "Uploaded batch 1/1\n",
      "Uploaded batch 1/1\n",
      "Uploaded batch 1/1\n"
     ]
    },
    {
     "name": "stderr",
     "output_type": "stream",
     "text": [
      "Processing Batches:  19%|█▊        | 20/108 [14:43<1:01:59, 42.26s/batch]"
     ]
    },
    {
     "name": "stdout",
     "output_type": "stream",
     "text": [
      "Uploaded batch 1/1\n",
      "Uploaded batch 1/1\n",
      "Uploaded batch 1/1\n",
      "Uploaded batch 1/1\n"
     ]
    },
    {
     "name": "stderr",
     "output_type": "stream",
     "text": [
      "Processing Batches:  19%|█▉        | 21/108 [15:29<1:02:47, 43.30s/batch]"
     ]
    },
    {
     "name": "stdout",
     "output_type": "stream",
     "text": [
      "Uploaded batch 1/1\n",
      "Uploaded batch 1/1\n",
      "Uploaded batch 1/1\n",
      "Uploaded batch 1/1\n"
     ]
    },
    {
     "name": "stderr",
     "output_type": "stream",
     "text": [
      "Processing Batches:  20%|██        | 22/108 [16:14<1:02:55, 43.90s/batch]"
     ]
    },
    {
     "name": "stdout",
     "output_type": "stream",
     "text": [
      "Uploaded batch 1/1\n",
      "Uploaded batch 1/1\n",
      "Uploaded batch 1/1\n",
      "Uploaded batch 1/1\n"
     ]
    },
    {
     "name": "stderr",
     "output_type": "stream",
     "text": [
      "Processing Batches:  21%|██▏       | 23/108 [17:03<1:04:05, 45.24s/batch]"
     ]
    },
    {
     "name": "stdout",
     "output_type": "stream",
     "text": [
      "Uploaded batch 1/1\n",
      "Uploaded batch 1/1\n",
      "Uploaded batch 1/1\n",
      "Uploaded batch 1/1\n"
     ]
    },
    {
     "name": "stderr",
     "output_type": "stream",
     "text": [
      "Processing Batches:  22%|██▏       | 24/108 [17:49<1:03:49, 45.58s/batch]"
     ]
    },
    {
     "name": "stdout",
     "output_type": "stream",
     "text": [
      "Uploaded batch 1/1\n",
      "Uploaded batch 1/1\n",
      "Uploaded batch 1/1\n",
      "Uploaded batch 1/1\n"
     ]
    },
    {
     "name": "stderr",
     "output_type": "stream",
     "text": [
      "Processing Batches:  23%|██▎       | 25/108 [18:36<1:03:48, 46.13s/batch]"
     ]
    },
    {
     "name": "stdout",
     "output_type": "stream",
     "text": [
      "Uploaded batch 1/1\n",
      "Uploaded batch 1/1\n",
      "Uploaded batch 1/1\n",
      "Uploaded batch 1/1\n"
     ]
    },
    {
     "name": "stderr",
     "output_type": "stream",
     "text": [
      "Processing Batches:  24%|██▍       | 26/108 [19:24<1:03:42, 46.62s/batch]"
     ]
    },
    {
     "name": "stdout",
     "output_type": "stream",
     "text": [
      "Uploaded batch 1/1\n",
      "Uploaded batch 1/1\n",
      "Uploaded batch 1/1\n",
      "Uploaded batch 1/1\n"
     ]
    },
    {
     "name": "stderr",
     "output_type": "stream",
     "text": [
      "Processing Batches:  25%|██▌       | 27/108 [20:07<1:01:32, 45.59s/batch]"
     ]
    },
    {
     "name": "stdout",
     "output_type": "stream",
     "text": [
      "Uploaded batch 1/1\n",
      "Uploaded batch 1/1\n",
      "Uploaded batch 1/1\n",
      "Uploaded batch 1/1\n"
     ]
    },
    {
     "name": "stderr",
     "output_type": "stream",
     "text": [
      "Processing Batches:  26%|██▌       | 28/108 [20:51<1:00:11, 45.14s/batch]"
     ]
    },
    {
     "name": "stdout",
     "output_type": "stream",
     "text": [
      "Uploaded batch 1/1\n",
      "Uploaded batch 1/1\n",
      "Uploaded batch 1/1\n",
      "Uploaded batch 1/1\n"
     ]
    },
    {
     "name": "stderr",
     "output_type": "stream",
     "text": [
      "Processing Batches:  27%|██▋       | 29/108 [21:37<59:36, 45.27s/batch]  "
     ]
    },
    {
     "name": "stdout",
     "output_type": "stream",
     "text": [
      "Uploaded batch 1/1\n",
      "Uploaded batch 1/1\n",
      "Uploaded batch 1/1\n",
      "Uploaded batch 1/1\n"
     ]
    },
    {
     "name": "stderr",
     "output_type": "stream",
     "text": [
      "Processing Batches:  28%|██▊       | 30/108 [22:22<58:46, 45.21s/batch]"
     ]
    },
    {
     "name": "stdout",
     "output_type": "stream",
     "text": [
      "Uploaded batch 1/1\n",
      "Uploaded batch 1/1\n",
      "Uploaded batch 1/1\n",
      "Uploaded batch 1/1\n"
     ]
    },
    {
     "name": "stderr",
     "output_type": "stream",
     "text": [
      "Processing Batches:  29%|██▊       | 31/108 [23:15<1:00:55, 47.48s/batch]"
     ]
    },
    {
     "name": "stdout",
     "output_type": "stream",
     "text": [
      "Uploaded batch 1/1\n",
      "Uploaded batch 1/1\n",
      "Uploaded batch 1/1\n",
      "Uploaded batch 1/1\n"
     ]
    },
    {
     "name": "stderr",
     "output_type": "stream",
     "text": [
      "Processing Batches:  30%|██▉       | 32/108 [24:05<1:01:10, 48.29s/batch]"
     ]
    },
    {
     "name": "stdout",
     "output_type": "stream",
     "text": [
      "Uploaded batch 1/1\n",
      "Uploaded batch 1/1\n",
      "Uploaded batch 1/1\n",
      "Uploaded batch 1/1\n"
     ]
    },
    {
     "name": "stderr",
     "output_type": "stream",
     "text": [
      "Processing Batches:  31%|███       | 33/108 [24:57<1:01:48, 49.44s/batch]"
     ]
    },
    {
     "name": "stdout",
     "output_type": "stream",
     "text": [
      "Uploaded batch 1/1\n",
      "Uploaded batch 1/1\n",
      "Uploaded batch 1/1\n",
      "Uploaded batch 1/1\n"
     ]
    },
    {
     "name": "stderr",
     "output_type": "stream",
     "text": [
      "Processing Batches:  31%|███▏      | 34/108 [25:51<1:02:37, 50.78s/batch]"
     ]
    },
    {
     "name": "stdout",
     "output_type": "stream",
     "text": [
      "Uploaded batch 1/1\n",
      "Uploaded batch 1/1\n",
      "Uploaded batch 1/1\n",
      "Uploaded batch 1/1\n"
     ]
    },
    {
     "name": "stderr",
     "output_type": "stream",
     "text": [
      "Processing Batches:  32%|███▏      | 35/108 [26:37<1:00:05, 49.39s/batch]"
     ]
    },
    {
     "name": "stdout",
     "output_type": "stream",
     "text": [
      "Uploaded batch 1/1\n",
      "Uploaded batch 1/1\n",
      "Uploaded batch 1/1\n",
      "Uploaded batch 1/1\n"
     ]
    },
    {
     "name": "stderr",
     "output_type": "stream",
     "text": [
      "Processing Batches:  33%|███▎      | 36/108 [27:31<1:01:03, 50.88s/batch]"
     ]
    },
    {
     "name": "stdout",
     "output_type": "stream",
     "text": [
      "Uploaded batch 1/1\n",
      "Uploaded batch 1/1\n",
      "Uploaded batch 1/1\n",
      "Uploaded batch 1/1\n"
     ]
    },
    {
     "name": "stderr",
     "output_type": "stream",
     "text": [
      "Processing Batches:  34%|███▍      | 37/108 [28:31<1:03:15, 53.46s/batch]"
     ]
    },
    {
     "name": "stdout",
     "output_type": "stream",
     "text": [
      "Uploaded batch 1/1\n",
      "Uploaded batch 1/1\n",
      "Uploaded batch 1/1\n",
      "Uploaded batch 1/1\n"
     ]
    },
    {
     "name": "stderr",
     "output_type": "stream",
     "text": [
      "Processing Batches:  35%|███▌      | 38/108 [29:31<1:04:44, 55.50s/batch]"
     ]
    },
    {
     "name": "stdout",
     "output_type": "stream",
     "text": [
      "Uploaded batch 1/1\n",
      "Uploaded batch 1/1\n",
      "Uploaded batch 1/1\n",
      "Uploaded batch 1/1\n"
     ]
    },
    {
     "name": "stderr",
     "output_type": "stream",
     "text": [
      "Processing Batches:  36%|███▌      | 39/108 [30:26<1:03:40, 55.37s/batch]"
     ]
    },
    {
     "name": "stdout",
     "output_type": "stream",
     "text": [
      "Uploaded batch 1/1\n",
      "Uploaded batch 1/1\n",
      "Uploaded batch 1/1\n",
      "Uploaded batch 1/1\n"
     ]
    },
    {
     "name": "stderr",
     "output_type": "stream",
     "text": [
      "Processing Batches:  37%|███▋      | 40/108 [31:19<1:01:46, 54.50s/batch]"
     ]
    },
    {
     "name": "stdout",
     "output_type": "stream",
     "text": [
      "Uploaded batch 1/1\n",
      "Uploaded batch 1/1\n",
      "Uploaded batch 1/1\n",
      "Uploaded batch 1/1\n"
     ]
    },
    {
     "name": "stderr",
     "output_type": "stream",
     "text": [
      "Processing Batches:  38%|███▊      | 41/108 [32:04<57:41, 51.67s/batch]  "
     ]
    },
    {
     "name": "stdout",
     "output_type": "stream",
     "text": [
      "Uploaded batch 1/1\n",
      "Uploaded batch 1/1\n",
      "Uploaded batch 1/1\n",
      "Uploaded batch 1/1\n"
     ]
    },
    {
     "name": "stderr",
     "output_type": "stream",
     "text": [
      "Processing Batches:  39%|███▉      | 42/108 [32:47<54:01, 49.12s/batch]"
     ]
    },
    {
     "name": "stdout",
     "output_type": "stream",
     "text": [
      "Uploaded batch 1/1\n",
      "Uploaded batch 1/1\n",
      "Uploaded batch 1/1\n",
      "Uploaded batch 1/1\n"
     ]
    },
    {
     "name": "stderr",
     "output_type": "stream",
     "text": [
      "Processing Batches:  40%|███▉      | 43/108 [33:32<51:52, 47.88s/batch]"
     ]
    },
    {
     "name": "stdout",
     "output_type": "stream",
     "text": [
      "Uploaded batch 1/1\n",
      "Uploaded batch 1/1\n",
      "Uploaded batch 1/1\n",
      "Uploaded batch 1/1\n"
     ]
    },
    {
     "name": "stderr",
     "output_type": "stream",
     "text": [
      "Processing Batches:  41%|████      | 44/108 [34:22<51:38, 48.41s/batch]"
     ]
    },
    {
     "name": "stdout",
     "output_type": "stream",
     "text": [
      "Uploaded batch 1/1\n",
      "Uploaded batch 1/1\n",
      "Uploaded batch 1/1\n",
      "Uploaded batch 1/1\n"
     ]
    },
    {
     "name": "stderr",
     "output_type": "stream",
     "text": [
      "Processing Batches:  42%|████▏     | 45/108 [35:10<50:47, 48.37s/batch]"
     ]
    },
    {
     "name": "stdout",
     "output_type": "stream",
     "text": [
      "Uploaded batch 1/1\n",
      "Uploaded batch 1/1\n",
      "Uploaded batch 1/1\n",
      "Uploaded batch 1/1\n"
     ]
    },
    {
     "name": "stderr",
     "output_type": "stream",
     "text": [
      "Processing Batches:  43%|████▎     | 46/108 [35:55<48:50, 47.27s/batch]"
     ]
    },
    {
     "name": "stdout",
     "output_type": "stream",
     "text": [
      "Uploaded batch 1/1\n",
      "Uploaded batch 1/1\n",
      "Uploaded batch 1/1\n",
      "Uploaded batch 1/1\n"
     ]
    },
    {
     "name": "stderr",
     "output_type": "stream",
     "text": [
      "Processing Batches:  44%|████▎     | 47/108 [36:40<47:22, 46.59s/batch]"
     ]
    },
    {
     "name": "stdout",
     "output_type": "stream",
     "text": [
      "Uploaded batch 1/1\n",
      "Uploaded batch 1/1\n",
      "Uploaded batch 1/1\n",
      "Uploaded batch 1/1\n"
     ]
    },
    {
     "name": "stderr",
     "output_type": "stream",
     "text": [
      "Processing Batches:  44%|████▍     | 48/108 [37:25<46:17, 46.29s/batch]"
     ]
    },
    {
     "name": "stdout",
     "output_type": "stream",
     "text": [
      "Uploaded batch 1/1\n",
      "Uploaded batch 1/1\n",
      "Uploaded batch 1/1\n",
      "Uploaded batch 1/1\n"
     ]
    },
    {
     "name": "stderr",
     "output_type": "stream",
     "text": [
      "Processing Batches:  45%|████▌     | 49/108 [38:12<45:31, 46.29s/batch]"
     ]
    },
    {
     "name": "stdout",
     "output_type": "stream",
     "text": [
      "Uploaded batch 1/1\n",
      "Uploaded batch 1/1\n",
      "Uploaded batch 1/1\n",
      "Uploaded batch 1/1\n"
     ]
    },
    {
     "name": "stderr",
     "output_type": "stream",
     "text": [
      "Processing Batches:  46%|████▋     | 50/108 [38:56<44:21, 45.88s/batch]"
     ]
    },
    {
     "name": "stdout",
     "output_type": "stream",
     "text": [
      "Uploaded batch 1/1\n",
      "Uploaded batch 1/1\n",
      "Uploaded batch 1/1\n",
      "Uploaded batch 1/1\n"
     ]
    },
    {
     "name": "stderr",
     "output_type": "stream",
     "text": [
      "Processing Batches:  47%|████▋     | 51/108 [39:45<44:21, 46.68s/batch]"
     ]
    },
    {
     "name": "stdout",
     "output_type": "stream",
     "text": [
      "Uploaded batch 1/1\n",
      "Uploaded batch 1/1\n",
      "Uploaded batch 1/1\n",
      "Uploaded batch 1/1\n"
     ]
    },
    {
     "name": "stderr",
     "output_type": "stream",
     "text": [
      "Processing Batches:  48%|████▊     | 52/108 [40:32<43:37, 46.73s/batch]"
     ]
    },
    {
     "name": "stdout",
     "output_type": "stream",
     "text": [
      "Uploaded batch 1/1\n",
      "Uploaded batch 1/1\n",
      "Uploaded batch 1/1\n",
      "Uploaded batch 1/1\n"
     ]
    },
    {
     "name": "stderr",
     "output_type": "stream",
     "text": [
      "Processing Batches:  49%|████▉     | 53/108 [41:15<41:51, 45.66s/batch]"
     ]
    },
    {
     "name": "stdout",
     "output_type": "stream",
     "text": [
      "Uploaded batch 1/1\n",
      "Uploaded batch 1/1\n",
      "Uploaded batch 1/1\n",
      "Uploaded batch 1/1\n"
     ]
    },
    {
     "name": "stderr",
     "output_type": "stream",
     "text": [
      "Processing Batches:  50%|█████     | 54/108 [42:00<40:50, 45.39s/batch]"
     ]
    },
    {
     "name": "stdout",
     "output_type": "stream",
     "text": [
      "Uploaded batch 1/1\n",
      "Uploaded batch 1/1\n",
      "Uploaded batch 1/1\n",
      "Uploaded batch 1/1\n"
     ]
    },
    {
     "name": "stderr",
     "output_type": "stream",
     "text": [
      "Processing Batches:  51%|█████     | 55/108 [42:43<39:28, 44.69s/batch]"
     ]
    },
    {
     "name": "stdout",
     "output_type": "stream",
     "text": [
      "Uploaded batch 1/1\n",
      "Uploaded batch 1/1\n",
      "Uploaded batch 1/1\n",
      "Uploaded batch 1/1\n"
     ]
    },
    {
     "name": "stderr",
     "output_type": "stream",
     "text": [
      "Processing Batches:  52%|█████▏    | 56/108 [43:24<37:43, 43.52s/batch]"
     ]
    },
    {
     "name": "stdout",
     "output_type": "stream",
     "text": [
      "Uploaded batch 1/1\n",
      "Uploaded batch 1/1\n",
      "Uploaded batch 1/1\n",
      "Uploaded batch 1/1\n"
     ]
    },
    {
     "name": "stderr",
     "output_type": "stream",
     "text": [
      "Processing Batches:  53%|█████▎    | 57/108 [44:07<36:51, 43.36s/batch]"
     ]
    },
    {
     "name": "stdout",
     "output_type": "stream",
     "text": [
      "Uploaded batch 1/1\n",
      "Uploaded batch 1/1\n",
      "Uploaded batch 1/1\n",
      "Uploaded batch 1/1\n"
     ]
    },
    {
     "name": "stderr",
     "output_type": "stream",
     "text": [
      "Processing Batches:  54%|█████▎    | 58/108 [44:48<35:43, 42.86s/batch]"
     ]
    },
    {
     "name": "stdout",
     "output_type": "stream",
     "text": [
      "Uploaded batch 1/1\n",
      "Uploaded batch 1/1\n",
      "Uploaded batch 1/1\n",
      "Uploaded batch 1/1\n"
     ]
    },
    {
     "name": "stderr",
     "output_type": "stream",
     "text": [
      "Processing Batches:  55%|█████▍    | 59/108 [45:33<35:26, 43.40s/batch]"
     ]
    },
    {
     "name": "stdout",
     "output_type": "stream",
     "text": [
      "Uploaded batch 1/1\n",
      "Uploaded batch 1/1\n",
      "Uploaded batch 1/1\n",
      "Uploaded batch 1/1\n"
     ]
    },
    {
     "name": "stderr",
     "output_type": "stream",
     "text": [
      "Processing Batches:  56%|█████▌    | 60/108 [46:20<35:40, 44.59s/batch]"
     ]
    },
    {
     "name": "stdout",
     "output_type": "stream",
     "text": [
      "Uploaded batch 1/1\n",
      "Uploaded batch 1/1\n",
      "Uploaded batch 1/1\n",
      "Uploaded batch 1/1\n"
     ]
    },
    {
     "name": "stderr",
     "output_type": "stream",
     "text": [
      "Processing Batches:  56%|█████▋    | 61/108 [47:01<34:02, 43.46s/batch]"
     ]
    },
    {
     "name": "stdout",
     "output_type": "stream",
     "text": [
      "Uploaded batch 1/1\n",
      "Uploaded batch 1/1\n",
      "Uploaded batch 1/1\n",
      "Uploaded batch 1/1\n"
     ]
    },
    {
     "name": "stderr",
     "output_type": "stream",
     "text": [
      "Processing Batches:  57%|█████▋    | 62/108 [47:46<33:40, 43.92s/batch]"
     ]
    },
    {
     "name": "stdout",
     "output_type": "stream",
     "text": [
      "Uploaded batch 1/1\n",
      "Uploaded batch 1/1\n",
      "Uploaded batch 1/1\n",
      "Uploaded batch 1/1\n"
     ]
    },
    {
     "name": "stderr",
     "output_type": "stream",
     "text": [
      "Processing Batches:  58%|█████▊    | 63/108 [48:27<32:11, 42.93s/batch]"
     ]
    },
    {
     "name": "stdout",
     "output_type": "stream",
     "text": [
      "Uploaded batch 1/1\n",
      "Uploaded batch 1/1\n",
      "Uploaded batch 1/1\n",
      "Uploaded batch 1/1\n"
     ]
    },
    {
     "name": "stderr",
     "output_type": "stream",
     "text": [
      "Processing Batches:  59%|█████▉    | 64/108 [49:08<31:05, 42.39s/batch]"
     ]
    },
    {
     "name": "stdout",
     "output_type": "stream",
     "text": [
      "Uploaded batch 1/1\n",
      "Uploaded batch 1/1\n",
      "Uploaded batch 1/1\n",
      "Uploaded batch 1/1\n"
     ]
    },
    {
     "name": "stderr",
     "output_type": "stream",
     "text": [
      "Processing Batches:  60%|██████    | 65/108 [49:51<30:36, 42.71s/batch]"
     ]
    },
    {
     "name": "stdout",
     "output_type": "stream",
     "text": [
      "Uploaded batch 1/1\n",
      "Uploaded batch 1/1\n",
      "Uploaded batch 1/1\n",
      "Uploaded batch 1/1\n"
     ]
    },
    {
     "name": "stderr",
     "output_type": "stream",
     "text": [
      "Processing Batches:  61%|██████    | 66/108 [50:33<29:43, 42.45s/batch]"
     ]
    },
    {
     "name": "stdout",
     "output_type": "stream",
     "text": [
      "Uploaded batch 1/1\n",
      "Uploaded batch 1/1\n",
      "Uploaded batch 1/1\n",
      "Uploaded batch 1/1\n"
     ]
    },
    {
     "name": "stderr",
     "output_type": "stream",
     "text": [
      "Processing Batches:  62%|██████▏   | 67/108 [51:14<28:35, 41.84s/batch]"
     ]
    },
    {
     "name": "stdout",
     "output_type": "stream",
     "text": [
      "Uploaded batch 1/1\n",
      "Uploaded batch 1/1\n",
      "Uploaded batch 1/1\n",
      "Uploaded batch 1/1\n"
     ]
    },
    {
     "name": "stderr",
     "output_type": "stream",
     "text": [
      "Processing Batches:  63%|██████▎   | 68/108 [51:57<28:09, 42.24s/batch]"
     ]
    },
    {
     "name": "stdout",
     "output_type": "stream",
     "text": [
      "Uploaded batch 1/1\n",
      "Uploaded batch 1/1\n",
      "Uploaded batch 1/1\n",
      "Uploaded batch 1/1\n"
     ]
    },
    {
     "name": "stderr",
     "output_type": "stream",
     "text": [
      "Processing Batches:  64%|██████▍   | 69/108 [52:48<29:17, 45.07s/batch]"
     ]
    },
    {
     "name": "stdout",
     "output_type": "stream",
     "text": [
      "Uploaded batch 1/1\n",
      "Uploaded batch 1/1\n",
      "Uploaded batch 1/1\n",
      "Uploaded batch 1/1\n"
     ]
    },
    {
     "name": "stderr",
     "output_type": "stream",
     "text": [
      "Processing Batches:  65%|██████▍   | 70/108 [53:34<28:38, 45.23s/batch]"
     ]
    },
    {
     "name": "stdout",
     "output_type": "stream",
     "text": [
      "Uploaded batch 1/1\n",
      "Uploaded batch 1/1\n",
      "Uploaded batch 1/1\n",
      "Uploaded batch 1/1\n"
     ]
    },
    {
     "name": "stderr",
     "output_type": "stream",
     "text": [
      "Processing Batches:  66%|██████▌   | 71/108 [54:22<28:20, 45.95s/batch]"
     ]
    },
    {
     "name": "stdout",
     "output_type": "stream",
     "text": [
      "Uploaded batch 1/1\n",
      "Uploaded batch 1/1\n",
      "Uploaded batch 1/1\n",
      "Uploaded batch 1/1\n"
     ]
    },
    {
     "name": "stderr",
     "output_type": "stream",
     "text": [
      "Processing Batches:  67%|██████▋   | 72/108 [55:08<27:34, 45.97s/batch]"
     ]
    },
    {
     "name": "stdout",
     "output_type": "stream",
     "text": [
      "Uploaded batch 1/1\n",
      "Uploaded batch 1/1\n",
      "Uploaded batch 1/1\n",
      "Uploaded batch 1/1\n"
     ]
    },
    {
     "name": "stderr",
     "output_type": "stream",
     "text": [
      "Processing Batches:  68%|██████▊   | 73/108 [55:57<27:23, 46.96s/batch]"
     ]
    },
    {
     "name": "stdout",
     "output_type": "stream",
     "text": [
      "Uploaded batch 1/1\n",
      "Uploaded batch 1/1\n",
      "Uploaded batch 1/1\n",
      "Uploaded batch 1/1\n"
     ]
    },
    {
     "name": "stderr",
     "output_type": "stream",
     "text": [
      "Processing Batches:  69%|██████▊   | 74/108 [56:48<27:17, 48.16s/batch]"
     ]
    },
    {
     "name": "stdout",
     "output_type": "stream",
     "text": [
      "Uploaded batch 1/1\n",
      "Uploaded batch 1/1\n",
      "Uploaded batch 1/1\n",
      "Uploaded batch 1/1\n"
     ]
    },
    {
     "name": "stderr",
     "output_type": "stream",
     "text": [
      "Processing Batches:  69%|██████▉   | 75/108 [57:37<26:41, 48.54s/batch]"
     ]
    },
    {
     "name": "stdout",
     "output_type": "stream",
     "text": [
      "Uploaded batch 1/1\n",
      "Uploaded batch 1/1\n",
      "Uploaded batch 1/1\n",
      "Uploaded batch 1/1\n"
     ]
    },
    {
     "name": "stderr",
     "output_type": "stream",
     "text": [
      "Processing Batches:  70%|███████   | 76/108 [58:24<25:38, 48.09s/batch]"
     ]
    },
    {
     "name": "stdout",
     "output_type": "stream",
     "text": [
      "Uploaded batch 1/1\n",
      "Uploaded batch 1/1\n",
      "Uploaded batch 1/1\n",
      "Uploaded batch 1/1\n"
     ]
    },
    {
     "name": "stderr",
     "output_type": "stream",
     "text": [
      "Processing Batches:  71%|███████▏  | 77/108 [59:09<24:14, 46.91s/batch]"
     ]
    },
    {
     "name": "stdout",
     "output_type": "stream",
     "text": [
      "Uploaded batch 1/1\n",
      "Uploaded batch 1/1\n",
      "Uploaded batch 1/1\n",
      "Uploaded batch 1/1\n"
     ]
    },
    {
     "name": "stderr",
     "output_type": "stream",
     "text": [
      "Processing Batches:  72%|███████▏  | 78/108 [59:54<23:09, 46.32s/batch]"
     ]
    },
    {
     "name": "stdout",
     "output_type": "stream",
     "text": [
      "Uploaded batch 1/1\n",
      "Uploaded batch 1/1\n",
      "Uploaded batch 1/1\n",
      "Uploaded batch 1/1\n"
     ]
    },
    {
     "name": "stderr",
     "output_type": "stream",
     "text": [
      "Processing Batches:  73%|███████▎  | 79/108 [1:00:38<22:07, 45.79s/batch]"
     ]
    },
    {
     "name": "stdout",
     "output_type": "stream",
     "text": [
      "Uploaded batch 1/1\n",
      "Uploaded batch 1/1\n",
      "Uploaded batch 1/1\n",
      "Uploaded batch 1/1\n"
     ]
    },
    {
     "name": "stderr",
     "output_type": "stream",
     "text": [
      "Processing Batches:  74%|███████▍  | 80/108 [1:01:23<21:17, 45.62s/batch]"
     ]
    },
    {
     "name": "stdout",
     "output_type": "stream",
     "text": [
      "Uploaded batch 1/1\n",
      "Uploaded batch 1/1\n",
      "Uploaded batch 1/1\n",
      "Uploaded batch 1/1\n"
     ]
    },
    {
     "name": "stderr",
     "output_type": "stream",
     "text": [
      "Processing Batches:  75%|███████▌  | 81/108 [1:02:08<20:20, 45.21s/batch]"
     ]
    },
    {
     "name": "stdout",
     "output_type": "stream",
     "text": [
      "Uploaded batch 1/1\n",
      "Uploaded batch 1/1\n",
      "Uploaded batch 1/1\n",
      "Uploaded batch 1/1\n"
     ]
    },
    {
     "name": "stderr",
     "output_type": "stream",
     "text": [
      "Processing Batches:  76%|███████▌  | 82/108 [1:02:53<19:38, 45.32s/batch]"
     ]
    },
    {
     "name": "stdout",
     "output_type": "stream",
     "text": [
      "Uploaded batch 1/1\n",
      "Uploaded batch 1/1\n",
      "Uploaded batch 1/1\n",
      "Uploaded batch 1/1\n"
     ]
    },
    {
     "name": "stderr",
     "output_type": "stream",
     "text": [
      "Processing Batches:  77%|███████▋  | 83/108 [1:03:44<19:34, 46.96s/batch]"
     ]
    },
    {
     "name": "stdout",
     "output_type": "stream",
     "text": [
      "Uploaded batch 1/1\n",
      "Uploaded batch 1/1\n",
      "Uploaded batch 1/1\n",
      "Uploaded batch 1/1\n"
     ]
    },
    {
     "name": "stderr",
     "output_type": "stream",
     "text": [
      "Processing Batches:  78%|███████▊  | 84/108 [1:04:31<18:49, 47.07s/batch]"
     ]
    },
    {
     "name": "stdout",
     "output_type": "stream",
     "text": [
      "Uploaded batch 1/1\n",
      "Uploaded batch 1/1\n",
      "Uploaded batch 1/1\n",
      "Uploaded batch 1/1\n"
     ]
    },
    {
     "name": "stderr",
     "output_type": "stream",
     "text": [
      "Processing Batches:  79%|███████▊  | 85/108 [1:05:20<18:15, 47.63s/batch]"
     ]
    },
    {
     "name": "stdout",
     "output_type": "stream",
     "text": [
      "Uploaded batch 1/1\n",
      "Uploaded batch 1/1\n",
      "Uploaded batch 1/1\n",
      "Uploaded batch 1/1\n"
     ]
    },
    {
     "name": "stderr",
     "output_type": "stream",
     "text": [
      "Processing Batches:  80%|███████▉  | 86/108 [1:06:08<17:28, 47.67s/batch]"
     ]
    },
    {
     "name": "stdout",
     "output_type": "stream",
     "text": [
      "Uploaded batch 1/1\n",
      "Uploaded batch 1/1\n",
      "Uploaded batch 1/1\n",
      "Uploaded batch 1/1\n"
     ]
    },
    {
     "name": "stderr",
     "output_type": "stream",
     "text": [
      "Processing Batches:  81%|████████  | 87/108 [1:06:53<16:23, 46.83s/batch]"
     ]
    },
    {
     "name": "stdout",
     "output_type": "stream",
     "text": [
      "Uploaded batch 1/1\n",
      "Uploaded batch 1/1\n",
      "Uploaded batch 1/1\n",
      "Uploaded batch 1/1\n"
     ]
    },
    {
     "name": "stderr",
     "output_type": "stream",
     "text": [
      "Processing Batches:  81%|████████▏ | 88/108 [1:07:40<15:40, 47.00s/batch]"
     ]
    },
    {
     "name": "stdout",
     "output_type": "stream",
     "text": [
      "Uploaded batch 1/1\n",
      "Uploaded batch 1/1\n",
      "Uploaded batch 1/1\n",
      "Uploaded batch 1/1\n"
     ]
    },
    {
     "name": "stderr",
     "output_type": "stream",
     "text": [
      "Processing Batches:  82%|████████▏ | 89/108 [1:08:28<14:58, 47.28s/batch]"
     ]
    },
    {
     "name": "stdout",
     "output_type": "stream",
     "text": [
      "Uploaded batch 1/1\n",
      "Uploaded batch 1/1\n",
      "Uploaded batch 1/1\n",
      "Uploaded batch 1/1\n"
     ]
    },
    {
     "name": "stderr",
     "output_type": "stream",
     "text": [
      "Processing Batches:  83%|████████▎ | 90/108 [1:09:19<14:28, 48.23s/batch]"
     ]
    },
    {
     "name": "stdout",
     "output_type": "stream",
     "text": [
      "Uploaded batch 1/1\n",
      "Uploaded batch 1/1\n",
      "Uploaded batch 1/1\n",
      "Uploaded batch 1/1\n"
     ]
    },
    {
     "name": "stderr",
     "output_type": "stream",
     "text": [
      "Processing Batches:  84%|████████▍ | 91/108 [1:10:04<13:24, 47.31s/batch]"
     ]
    },
    {
     "name": "stdout",
     "output_type": "stream",
     "text": [
      "Uploaded batch 1/1\n",
      "Uploaded batch 1/1\n",
      "Uploaded batch 1/1\n",
      "Uploaded batch 1/1\n"
     ]
    },
    {
     "name": "stderr",
     "output_type": "stream",
     "text": [
      "Processing Batches:  85%|████████▌ | 92/108 [1:10:49<12:24, 46.55s/batch]"
     ]
    },
    {
     "name": "stdout",
     "output_type": "stream",
     "text": [
      "Uploaded batch 1/1\n",
      "Uploaded batch 1/1\n",
      "Uploaded batch 1/1\n",
      "Uploaded batch 1/1\n"
     ]
    },
    {
     "name": "stderr",
     "output_type": "stream",
     "text": [
      "Processing Batches:  86%|████████▌ | 93/108 [1:11:36<11:44, 46.97s/batch]"
     ]
    },
    {
     "name": "stdout",
     "output_type": "stream",
     "text": [
      "Uploaded batch 1/1\n",
      "Uploaded batch 1/1\n",
      "Uploaded batch 1/1\n",
      "Uploaded batch 1/1\n"
     ]
    },
    {
     "name": "stderr",
     "output_type": "stream",
     "text": [
      "Processing Batches:  87%|████████▋ | 94/108 [1:12:22<10:49, 46.42s/batch]"
     ]
    },
    {
     "name": "stdout",
     "output_type": "stream",
     "text": [
      "Uploaded batch 1/1\n",
      "Uploaded batch 1/1\n",
      "Uploaded batch 1/1\n",
      "Uploaded batch 1/1\n"
     ]
    },
    {
     "name": "stderr",
     "output_type": "stream",
     "text": [
      "Processing Batches:  88%|████████▊ | 95/108 [1:13:06<09:53, 45.69s/batch]"
     ]
    },
    {
     "name": "stdout",
     "output_type": "stream",
     "text": [
      "Uploaded batch 1/1\n",
      "Uploaded batch 1/1\n",
      "Uploaded batch 1/1\n",
      "Uploaded batch 1/1\n"
     ]
    },
    {
     "name": "stderr",
     "output_type": "stream",
     "text": [
      "Processing Batches:  89%|████████▉ | 96/108 [1:13:46<08:50, 44.17s/batch]"
     ]
    },
    {
     "name": "stdout",
     "output_type": "stream",
     "text": [
      "Uploaded batch 1/1\n",
      "Uploaded batch 1/1\n",
      "Uploaded batch 1/1\n",
      "Uploaded batch 1/1\n"
     ]
    },
    {
     "name": "stderr",
     "output_type": "stream",
     "text": [
      "Processing Batches:  90%|████████▉ | 97/108 [1:14:31<08:07, 44.28s/batch]"
     ]
    },
    {
     "name": "stdout",
     "output_type": "stream",
     "text": [
      "Uploaded batch 1/1\n",
      "Uploaded batch 1/1\n",
      "Uploaded batch 1/1\n",
      "Uploaded batch 1/1\n"
     ]
    },
    {
     "name": "stderr",
     "output_type": "stream",
     "text": [
      "Processing Batches:  91%|█████████ | 98/108 [1:15:17<07:29, 44.95s/batch]"
     ]
    },
    {
     "name": "stdout",
     "output_type": "stream",
     "text": [
      "Uploaded batch 1/1\n",
      "Uploaded batch 1/1\n",
      "Uploaded batch 1/1\n",
      "Uploaded batch 1/1\n"
     ]
    },
    {
     "name": "stderr",
     "output_type": "stream",
     "text": [
      "Processing Batches:  92%|█████████▏| 99/108 [1:16:01<06:40, 44.48s/batch]"
     ]
    },
    {
     "name": "stdout",
     "output_type": "stream",
     "text": [
      "Uploaded batch 1/1\n",
      "Uploaded batch 1/1\n",
      "Uploaded batch 1/1\n",
      "Uploaded batch 1/1\n"
     ]
    },
    {
     "name": "stderr",
     "output_type": "stream",
     "text": [
      "Processing Batches:  93%|█████████▎| 100/108 [1:16:48<06:02, 45.35s/batch]"
     ]
    },
    {
     "name": "stdout",
     "output_type": "stream",
     "text": [
      "Uploaded batch 1/1\n",
      "Uploaded batch 1/1\n",
      "Uploaded batch 1/1\n",
      "Uploaded batch 1/1\n"
     ]
    },
    {
     "name": "stderr",
     "output_type": "stream",
     "text": [
      "Processing Batches:  94%|█████████▎| 101/108 [1:17:30<05:10, 44.34s/batch]"
     ]
    },
    {
     "name": "stdout",
     "output_type": "stream",
     "text": [
      "Uploaded batch 1/1\n",
      "Uploaded batch 1/1\n",
      "Uploaded batch 1/1\n",
      "Uploaded batch 1/1\n"
     ]
    },
    {
     "name": "stderr",
     "output_type": "stream",
     "text": [
      "Processing Batches:  94%|█████████▍| 102/108 [1:18:13<04:23, 43.97s/batch]"
     ]
    },
    {
     "name": "stdout",
     "output_type": "stream",
     "text": [
      "Uploaded batch 1/1\n",
      "Uploaded batch 1/1\n",
      "Uploaded batch 1/1\n",
      "Uploaded batch 1/1\n"
     ]
    },
    {
     "name": "stderr",
     "output_type": "stream",
     "text": [
      "Processing Batches:  95%|█████████▌| 103/108 [1:18:58<03:41, 44.34s/batch]"
     ]
    },
    {
     "name": "stdout",
     "output_type": "stream",
     "text": [
      "Uploaded batch 1/1\n",
      "Uploaded batch 1/1\n",
      "Uploaded batch 1/1\n",
      "Uploaded batch 1/1\n"
     ]
    },
    {
     "name": "stderr",
     "output_type": "stream",
     "text": [
      "Processing Batches:  96%|█████████▋| 104/108 [1:19:51<03:07, 46.84s/batch]"
     ]
    },
    {
     "name": "stdout",
     "output_type": "stream",
     "text": [
      "Uploaded batch 1/1\n",
      "Uploaded batch 1/1\n",
      "Uploaded batch 1/1\n",
      "Uploaded batch 1/1\n"
     ]
    },
    {
     "name": "stderr",
     "output_type": "stream",
     "text": [
      "Processing Batches:  97%|█████████▋| 105/108 [1:20:47<02:28, 49.53s/batch]"
     ]
    },
    {
     "name": "stdout",
     "output_type": "stream",
     "text": [
      "Uploaded batch 1/1\n",
      "Uploaded batch 1/1\n",
      "Uploaded batch 1/1\n",
      "Uploaded batch 1/1\n"
     ]
    },
    {
     "name": "stderr",
     "output_type": "stream",
     "text": [
      "Processing Batches:  98%|█████████▊| 106/108 [1:21:45<01:44, 52.09s/batch]"
     ]
    },
    {
     "name": "stdout",
     "output_type": "stream",
     "text": [
      "Uploaded batch 1/1\n",
      "Uploaded batch 1/1\n",
      "Uploaded batch 1/1\n",
      "Uploaded batch 1/1\n"
     ]
    },
    {
     "name": "stderr",
     "output_type": "stream",
     "text": [
      "Processing Batches:  99%|█████████▉| 107/108 [1:22:40<00:52, 53.00s/batch]"
     ]
    },
    {
     "name": "stdout",
     "output_type": "stream",
     "text": [
      "Uploaded batch 1/1\n",
      "Uploaded batch 1/1\n",
      "Uploaded batch 1/1\n"
     ]
    },
    {
     "name": "stderr",
     "output_type": "stream",
     "text": [
      "Processing Batches: 100%|██████████| 108/108 [1:23:08<00:00, 46.19s/batch]"
     ]
    },
    {
     "name": "stdout",
     "output_type": "stream",
     "text": [
      "Uploaded batch 1/1\n",
      "All batches uploaded successfully.\n"
     ]
    },
    {
     "name": "stderr",
     "output_type": "stream",
     "text": [
      "\n"
     ]
    }
   ],
   "source": [
    "embed_model = \"jinaai/jina-embeddings-v3\"\n",
    "embed_model_name = embed_model.split(\"/\")[1]\n",
    "model_dimension = 1024\n",
    "\n",
    "index_name = f'{embed_model_name}-{suffix}-{max_tokens}'\n",
    "\n",
    "vec_con = PineconeDBConnectorHybrid(api_key=API_PINE_CONE,\n",
    "                                    index_name=index_name,\n",
    "                                    embedding_model_name_dense=embed_model,\n",
    "                                    dimension=model_dimension)\n",
    "\n",
    "embedding_handler = EmbeddingHandler(\n",
    "    model_name=embed_model,  # Replace with your transformer model\n",
    "    use_api=False,  # Set to True if using API\n",
    "    task = 'retrieval.passage'\n",
    ")\n",
    "\n",
    "process_and_upload(chunks=upsert_list,\n",
    "                   pinecone_connector=vec_con,\n",
    "                   embedding_handler=embedding_handler,\n",
    "                   use_sparse=True\n",
    "                   )"
   ]
  },
  {
   "cell_type": "code",
   "execution_count": null,
   "metadata": {},
   "outputs": [
    {
     "name": "stdout",
     "output_type": "stream",
     "text": [
      "Embedding Dimension: 1024\n",
      "Created new Pinecone index: german-semantic-v3-clean-250\n"
     ]
    },
    {
     "name": "stderr",
     "output_type": "stream",
     "text": [
      "Processing Batches:   0%|          | 0/108 [00:00<?, ?batch/s]"
     ]
    },
    {
     "name": "stdout",
     "output_type": "stream",
     "text": [
      "Uploaded batch 1/1\n",
      "Uploaded batch 1/1\n",
      "Uploaded batch 1/1\n"
     ]
    },
    {
     "name": "stderr",
     "output_type": "stream",
     "text": [
      "Processing Batches:   1%|          | 1/108 [00:26<46:24, 26.03s/batch]"
     ]
    },
    {
     "name": "stdout",
     "output_type": "stream",
     "text": [
      "Uploaded batch 1/1\n",
      "Uploaded batch 1/1\n",
      "Uploaded batch 1/1\n",
      "Uploaded batch 1/1\n"
     ]
    },
    {
     "name": "stderr",
     "output_type": "stream",
     "text": [
      "Processing Batches:   2%|▏         | 2/108 [00:44<37:50, 21.42s/batch]"
     ]
    },
    {
     "name": "stdout",
     "output_type": "stream",
     "text": [
      "Uploaded batch 1/1\n",
      "Uploaded batch 1/1\n",
      "Uploaded batch 1/1\n",
      "Uploaded batch 1/1\n"
     ]
    },
    {
     "name": "stderr",
     "output_type": "stream",
     "text": [
      "Processing Batches:   3%|▎         | 3/108 [01:15<45:41, 26.11s/batch]"
     ]
    },
    {
     "name": "stdout",
     "output_type": "stream",
     "text": [
      "Uploaded batch 1/1\n",
      "Uploaded batch 1/1\n",
      "Uploaded batch 1/1\n",
      "Uploaded batch 1/1\n"
     ]
    },
    {
     "name": "stderr",
     "output_type": "stream",
     "text": [
      "Processing Batches:   4%|▎         | 4/108 [01:33<39:36, 22.85s/batch]"
     ]
    },
    {
     "name": "stdout",
     "output_type": "stream",
     "text": [
      "Uploaded batch 1/1\n",
      "Uploaded batch 1/1\n",
      "Uploaded batch 1/1\n",
      "Uploaded batch 1/1\n"
     ]
    },
    {
     "name": "stderr",
     "output_type": "stream",
     "text": [
      "Processing Batches:   5%|▍         | 5/108 [01:51<36:06, 21.03s/batch]"
     ]
    },
    {
     "name": "stdout",
     "output_type": "stream",
     "text": [
      "Uploaded batch 1/1\n",
      "Uploaded batch 1/1\n",
      "Uploaded batch 1/1\n",
      "Uploaded batch 1/1\n"
     ]
    },
    {
     "name": "stderr",
     "output_type": "stream",
     "text": [
      "Processing Batches:   6%|▌         | 6/108 [02:09<33:48, 19.89s/batch]"
     ]
    },
    {
     "name": "stdout",
     "output_type": "stream",
     "text": [
      "Uploaded batch 1/1\n",
      "Uploaded batch 1/1\n",
      "Uploaded batch 1/1\n",
      "Uploaded batch 1/1\n"
     ]
    },
    {
     "name": "stderr",
     "output_type": "stream",
     "text": [
      "Processing Batches:   6%|▋         | 7/108 [02:27<32:39, 19.40s/batch]"
     ]
    },
    {
     "name": "stdout",
     "output_type": "stream",
     "text": [
      "Uploaded batch 1/1\n",
      "Uploaded batch 1/1\n",
      "Uploaded batch 1/1\n",
      "Uploaded batch 1/1\n"
     ]
    },
    {
     "name": "stderr",
     "output_type": "stream",
     "text": [
      "Processing Batches:   7%|▋         | 8/108 [02:47<32:47, 19.68s/batch]"
     ]
    },
    {
     "name": "stdout",
     "output_type": "stream",
     "text": [
      "Uploaded batch 1/1\n",
      "Uploaded batch 1/1\n",
      "Uploaded batch 1/1\n",
      "Uploaded batch 1/1\n"
     ]
    },
    {
     "name": "stderr",
     "output_type": "stream",
     "text": [
      "Processing Batches:   8%|▊         | 9/108 [03:05<31:36, 19.16s/batch]"
     ]
    },
    {
     "name": "stdout",
     "output_type": "stream",
     "text": [
      "Uploaded batch 1/1\n",
      "Uploaded batch 1/1\n",
      "Uploaded batch 1/1\n",
      "Uploaded batch 1/1\n"
     ]
    },
    {
     "name": "stderr",
     "output_type": "stream",
     "text": [
      "Processing Batches:   9%|▉         | 10/108 [03:24<30:50, 18.89s/batch]"
     ]
    },
    {
     "name": "stdout",
     "output_type": "stream",
     "text": [
      "Uploaded batch 1/1\n",
      "Uploaded batch 1/1\n",
      "Uploaded batch 1/1\n",
      "Uploaded batch 1/1\n"
     ]
    },
    {
     "name": "stderr",
     "output_type": "stream",
     "text": [
      "Processing Batches:  10%|█         | 11/108 [03:43<30:40, 18.97s/batch]"
     ]
    },
    {
     "name": "stdout",
     "output_type": "stream",
     "text": [
      "Uploaded batch 1/1\n",
      "Uploaded batch 1/1\n",
      "Uploaded batch 1/1\n",
      "Uploaded batch 1/1\n"
     ]
    },
    {
     "name": "stderr",
     "output_type": "stream",
     "text": [
      "Processing Batches:  11%|█         | 12/108 [04:03<31:07, 19.45s/batch]"
     ]
    },
    {
     "name": "stdout",
     "output_type": "stream",
     "text": [
      "Uploaded batch 1/1\n",
      "Uploaded batch 1/1\n",
      "Uploaded batch 1/1\n",
      "Uploaded batch 1/1\n"
     ]
    },
    {
     "name": "stderr",
     "output_type": "stream",
     "text": [
      "Processing Batches:  12%|█▏        | 13/108 [04:20<29:37, 18.71s/batch]"
     ]
    },
    {
     "name": "stdout",
     "output_type": "stream",
     "text": [
      "Uploaded batch 1/1\n",
      "Uploaded batch 1/1\n",
      "Uploaded batch 1/1\n",
      "Uploaded batch 1/1\n"
     ]
    },
    {
     "name": "stderr",
     "output_type": "stream",
     "text": [
      "Processing Batches:  13%|█▎        | 14/108 [04:37<28:12, 18.00s/batch]"
     ]
    },
    {
     "name": "stdout",
     "output_type": "stream",
     "text": [
      "Uploaded batch 1/1\n",
      "Uploaded batch 1/1\n",
      "Uploaded batch 1/1\n",
      "Uploaded batch 1/1\n"
     ]
    },
    {
     "name": "stderr",
     "output_type": "stream",
     "text": [
      "Processing Batches:  14%|█▍        | 15/108 [04:54<27:26, 17.70s/batch]"
     ]
    },
    {
     "name": "stdout",
     "output_type": "stream",
     "text": [
      "Uploaded batch 1/1\n",
      "Uploaded batch 1/1\n",
      "Uploaded batch 1/1\n",
      "Uploaded batch 1/1\n"
     ]
    },
    {
     "name": "stderr",
     "output_type": "stream",
     "text": [
      "Processing Batches:  15%|█▍        | 16/108 [05:16<29:03, 18.95s/batch]"
     ]
    },
    {
     "name": "stdout",
     "output_type": "stream",
     "text": [
      "Uploaded batch 1/1\n",
      "Uploaded batch 1/1\n",
      "Uploaded batch 1/1\n",
      "Uploaded batch 1/1\n"
     ]
    },
    {
     "name": "stderr",
     "output_type": "stream",
     "text": [
      "Processing Batches:  16%|█▌        | 17/108 [05:35<28:45, 18.97s/batch]"
     ]
    },
    {
     "name": "stdout",
     "output_type": "stream",
     "text": [
      "Uploaded batch 1/1\n",
      "Uploaded batch 1/1\n",
      "Uploaded batch 1/1\n",
      "Uploaded batch 1/1\n"
     ]
    },
    {
     "name": "stderr",
     "output_type": "stream",
     "text": [
      "Processing Batches:  17%|█▋        | 18/108 [05:59<30:53, 20.60s/batch]"
     ]
    },
    {
     "name": "stdout",
     "output_type": "stream",
     "text": [
      "Uploaded batch 1/1\n",
      "Uploaded batch 1/1\n",
      "Uploaded batch 1/1\n",
      "Uploaded batch 1/1\n"
     ]
    },
    {
     "name": "stderr",
     "output_type": "stream",
     "text": [
      "Processing Batches:  18%|█▊        | 19/108 [06:17<29:24, 19.82s/batch]"
     ]
    },
    {
     "name": "stdout",
     "output_type": "stream",
     "text": [
      "Uploaded batch 1/1\n",
      "Uploaded batch 1/1\n",
      "Uploaded batch 1/1\n",
      "Uploaded batch 1/1\n"
     ]
    },
    {
     "name": "stderr",
     "output_type": "stream",
     "text": [
      "Processing Batches:  19%|█▊        | 20/108 [06:38<29:38, 20.21s/batch]"
     ]
    },
    {
     "name": "stdout",
     "output_type": "stream",
     "text": [
      "Uploaded batch 1/1\n",
      "Uploaded batch 1/1\n",
      "Uploaded batch 1/1\n",
      "Uploaded batch 1/1\n"
     ]
    },
    {
     "name": "stderr",
     "output_type": "stream",
     "text": [
      "Processing Batches:  19%|█▉        | 21/108 [06:58<29:00, 20.01s/batch]"
     ]
    },
    {
     "name": "stdout",
     "output_type": "stream",
     "text": [
      "Uploaded batch 1/1\n",
      "Uploaded batch 1/1\n",
      "Uploaded batch 1/1\n",
      "Uploaded batch 1/1\n"
     ]
    },
    {
     "name": "stderr",
     "output_type": "stream",
     "text": [
      "Processing Batches:  20%|██        | 22/108 [07:21<30:00, 20.94s/batch]"
     ]
    },
    {
     "name": "stdout",
     "output_type": "stream",
     "text": [
      "Uploaded batch 1/1\n",
      "Uploaded batch 1/1\n",
      "Uploaded batch 1/1\n",
      "Uploaded batch 1/1\n"
     ]
    },
    {
     "name": "stderr",
     "output_type": "stream",
     "text": [
      "Processing Batches:  21%|██▏       | 23/108 [07:39<28:26, 20.08s/batch]"
     ]
    },
    {
     "name": "stdout",
     "output_type": "stream",
     "text": [
      "Uploaded batch 1/1\n",
      "Uploaded batch 1/1\n",
      "Uploaded batch 1/1\n",
      "Uploaded batch 1/1\n"
     ]
    },
    {
     "name": "stderr",
     "output_type": "stream",
     "text": [
      "Processing Batches:  22%|██▏       | 24/108 [07:57<27:10, 19.41s/batch]"
     ]
    },
    {
     "name": "stdout",
     "output_type": "stream",
     "text": [
      "Uploaded batch 1/1\n",
      "Uploaded batch 1/1\n",
      "Uploaded batch 1/1\n",
      "Uploaded batch 1/1\n"
     ]
    },
    {
     "name": "stderr",
     "output_type": "stream",
     "text": [
      "Processing Batches:  23%|██▎       | 25/108 [08:17<27:21, 19.77s/batch]"
     ]
    },
    {
     "name": "stdout",
     "output_type": "stream",
     "text": [
      "Uploaded batch 1/1\n",
      "Uploaded batch 1/1\n",
      "Uploaded batch 1/1\n",
      "Uploaded batch 1/1\n"
     ]
    },
    {
     "name": "stderr",
     "output_type": "stream",
     "text": [
      "Processing Batches:  24%|██▍       | 26/108 [08:35<26:13, 19.19s/batch]"
     ]
    },
    {
     "name": "stdout",
     "output_type": "stream",
     "text": [
      "Uploaded batch 1/1\n",
      "Uploaded batch 1/1\n",
      "Uploaded batch 1/1\n",
      "Uploaded batch 1/1\n"
     ]
    },
    {
     "name": "stderr",
     "output_type": "stream",
     "text": [
      "Processing Batches:  25%|██▌       | 27/108 [08:54<25:36, 18.97s/batch]"
     ]
    },
    {
     "name": "stdout",
     "output_type": "stream",
     "text": [
      "Uploaded batch 1/1\n",
      "Uploaded batch 1/1\n",
      "Uploaded batch 1/1\n",
      "Uploaded batch 1/1\n"
     ]
    },
    {
     "name": "stderr",
     "output_type": "stream",
     "text": [
      "Processing Batches:  26%|██▌       | 28/108 [09:11<24:47, 18.59s/batch]"
     ]
    },
    {
     "name": "stdout",
     "output_type": "stream",
     "text": [
      "Uploaded batch 1/1\n",
      "Uploaded batch 1/1\n",
      "Uploaded batch 1/1\n",
      "Uploaded batch 1/1\n"
     ]
    },
    {
     "name": "stderr",
     "output_type": "stream",
     "text": [
      "Processing Batches:  27%|██▋       | 29/108 [09:30<24:41, 18.75s/batch]"
     ]
    },
    {
     "name": "stdout",
     "output_type": "stream",
     "text": [
      "Uploaded batch 1/1\n",
      "Uploaded batch 1/1\n",
      "Uploaded batch 1/1\n",
      "Uploaded batch 1/1\n"
     ]
    },
    {
     "name": "stderr",
     "output_type": "stream",
     "text": [
      "Processing Batches:  28%|██▊       | 30/108 [09:50<24:31, 18.86s/batch]"
     ]
    },
    {
     "name": "stdout",
     "output_type": "stream",
     "text": [
      "Uploaded batch 1/1\n",
      "Uploaded batch 1/1\n",
      "Uploaded batch 1/1\n",
      "Uploaded batch 1/1\n"
     ]
    },
    {
     "name": "stderr",
     "output_type": "stream",
     "text": [
      "Processing Batches:  29%|██▊       | 31/108 [10:10<24:54, 19.41s/batch]"
     ]
    },
    {
     "name": "stdout",
     "output_type": "stream",
     "text": [
      "Uploaded batch 1/1\n",
      "Uploaded batch 1/1\n",
      "Uploaded batch 1/1\n",
      "Uploaded batch 1/1\n"
     ]
    },
    {
     "name": "stderr",
     "output_type": "stream",
     "text": [
      "Processing Batches:  30%|██▉       | 32/108 [10:29<24:22, 19.25s/batch]"
     ]
    },
    {
     "name": "stdout",
     "output_type": "stream",
     "text": [
      "Uploaded batch 1/1\n",
      "Uploaded batch 1/1\n",
      "Uploaded batch 1/1\n",
      "Uploaded batch 1/1\n"
     ]
    },
    {
     "name": "stderr",
     "output_type": "stream",
     "text": [
      "Processing Batches:  31%|███       | 33/108 [10:47<23:36, 18.89s/batch]"
     ]
    },
    {
     "name": "stdout",
     "output_type": "stream",
     "text": [
      "Uploaded batch 1/1\n",
      "Uploaded batch 1/1\n",
      "Uploaded batch 1/1\n",
      "Uploaded batch 1/1\n"
     ]
    },
    {
     "name": "stderr",
     "output_type": "stream",
     "text": [
      "Processing Batches:  31%|███▏      | 34/108 [11:06<23:08, 18.76s/batch]"
     ]
    },
    {
     "name": "stdout",
     "output_type": "stream",
     "text": [
      "Uploaded batch 1/1\n",
      "Uploaded batch 1/1\n",
      "Uploaded batch 1/1\n",
      "Uploaded batch 1/1\n"
     ]
    },
    {
     "name": "stderr",
     "output_type": "stream",
     "text": [
      "Processing Batches:  32%|███▏      | 35/108 [11:25<23:00, 18.90s/batch]"
     ]
    },
    {
     "name": "stdout",
     "output_type": "stream",
     "text": [
      "Uploaded batch 1/1\n",
      "Uploaded batch 1/1\n",
      "Uploaded batch 1/1\n",
      "Uploaded batch 1/1\n"
     ]
    },
    {
     "name": "stderr",
     "output_type": "stream",
     "text": [
      "Processing Batches:  33%|███▎      | 36/108 [11:45<23:00, 19.18s/batch]"
     ]
    },
    {
     "name": "stdout",
     "output_type": "stream",
     "text": [
      "Uploaded batch 1/1\n",
      "Uploaded batch 1/1\n",
      "Uploaded batch 1/1\n",
      "Uploaded batch 1/1\n"
     ]
    },
    {
     "name": "stderr",
     "output_type": "stream",
     "text": [
      "Processing Batches:  34%|███▍      | 37/108 [12:04<22:34, 19.08s/batch]"
     ]
    },
    {
     "name": "stdout",
     "output_type": "stream",
     "text": [
      "Uploaded batch 1/1\n",
      "Uploaded batch 1/1\n",
      "Uploaded batch 1/1\n",
      "Uploaded batch 1/1\n"
     ]
    },
    {
     "name": "stderr",
     "output_type": "stream",
     "text": [
      "Processing Batches:  35%|███▌      | 38/108 [12:21<21:44, 18.64s/batch]"
     ]
    },
    {
     "name": "stdout",
     "output_type": "stream",
     "text": [
      "Uploaded batch 1/1\n",
      "Uploaded batch 1/1\n",
      "Uploaded batch 1/1\n",
      "Uploaded batch 1/1\n"
     ]
    },
    {
     "name": "stderr",
     "output_type": "stream",
     "text": [
      "Processing Batches:  36%|███▌      | 39/108 [12:42<22:20, 19.43s/batch]"
     ]
    },
    {
     "name": "stdout",
     "output_type": "stream",
     "text": [
      "Uploaded batch 1/1\n",
      "Uploaded batch 1/1\n",
      "Uploaded batch 1/1\n",
      "Uploaded batch 1/1\n"
     ]
    },
    {
     "name": "stderr",
     "output_type": "stream",
     "text": [
      "Processing Batches:  37%|███▋      | 40/108 [13:01<21:36, 19.06s/batch]"
     ]
    },
    {
     "name": "stdout",
     "output_type": "stream",
     "text": [
      "Uploaded batch 1/1\n",
      "Uploaded batch 1/1\n",
      "Uploaded batch 1/1\n",
      "Uploaded batch 1/1\n"
     ]
    },
    {
     "name": "stderr",
     "output_type": "stream",
     "text": [
      "Processing Batches:  38%|███▊      | 41/108 [13:19<21:03, 18.85s/batch]"
     ]
    },
    {
     "name": "stdout",
     "output_type": "stream",
     "text": [
      "Uploaded batch 1/1\n",
      "Uploaded batch 1/1\n",
      "Uploaded batch 1/1\n",
      "Uploaded batch 1/1\n"
     ]
    },
    {
     "name": "stderr",
     "output_type": "stream",
     "text": [
      "Processing Batches:  39%|███▉      | 42/108 [13:38<20:37, 18.75s/batch]"
     ]
    },
    {
     "name": "stdout",
     "output_type": "stream",
     "text": [
      "Uploaded batch 1/1\n",
      "Uploaded batch 1/1\n",
      "Uploaded batch 1/1\n",
      "Uploaded batch 1/1\n"
     ]
    },
    {
     "name": "stderr",
     "output_type": "stream",
     "text": [
      "Processing Batches:  40%|███▉      | 43/108 [13:57<20:39, 19.07s/batch]"
     ]
    },
    {
     "name": "stdout",
     "output_type": "stream",
     "text": [
      "Uploaded batch 1/1\n",
      "Uploaded batch 1/1\n",
      "Uploaded batch 1/1\n",
      "Uploaded batch 1/1\n"
     ]
    },
    {
     "name": "stderr",
     "output_type": "stream",
     "text": [
      "Processing Batches:  41%|████      | 44/108 [14:18<20:55, 19.61s/batch]"
     ]
    },
    {
     "name": "stdout",
     "output_type": "stream",
     "text": [
      "Uploaded batch 1/1\n",
      "Uploaded batch 1/1\n",
      "Uploaded batch 1/1\n",
      "Uploaded batch 1/1\n"
     ]
    },
    {
     "name": "stderr",
     "output_type": "stream",
     "text": [
      "Processing Batches:  42%|████▏     | 45/108 [14:36<20:04, 19.12s/batch]"
     ]
    },
    {
     "name": "stdout",
     "output_type": "stream",
     "text": [
      "Uploaded batch 1/1\n",
      "Uploaded batch 1/1\n",
      "Uploaded batch 1/1\n",
      "Uploaded batch 1/1\n"
     ]
    },
    {
     "name": "stderr",
     "output_type": "stream",
     "text": [
      "Processing Batches:  43%|████▎     | 46/108 [14:54<19:25, 18.79s/batch]"
     ]
    },
    {
     "name": "stdout",
     "output_type": "stream",
     "text": [
      "Uploaded batch 1/1\n",
      "Uploaded batch 1/1\n",
      "Uploaded batch 1/1\n",
      "Uploaded batch 1/1\n"
     ]
    },
    {
     "name": "stderr",
     "output_type": "stream",
     "text": [
      "Processing Batches:  44%|████▎     | 47/108 [15:16<20:03, 19.74s/batch]"
     ]
    },
    {
     "name": "stdout",
     "output_type": "stream",
     "text": [
      "Uploaded batch 1/1\n",
      "Uploaded batch 1/1\n",
      "Uploaded batch 1/1\n",
      "Uploaded batch 1/1\n"
     ]
    },
    {
     "name": "stderr",
     "output_type": "stream",
     "text": [
      "Processing Batches:  44%|████▍     | 48/108 [15:35<19:24, 19.41s/batch]"
     ]
    },
    {
     "name": "stdout",
     "output_type": "stream",
     "text": [
      "Uploaded batch 1/1\n",
      "Uploaded batch 1/1\n",
      "Uploaded batch 1/1\n",
      "Uploaded batch 1/1\n"
     ]
    },
    {
     "name": "stderr",
     "output_type": "stream",
     "text": [
      "Processing Batches:  45%|████▌     | 49/108 [15:53<18:40, 18.99s/batch]"
     ]
    },
    {
     "name": "stdout",
     "output_type": "stream",
     "text": [
      "Uploaded batch 1/1\n",
      "Uploaded batch 1/1\n",
      "Uploaded batch 1/1\n",
      "Uploaded batch 1/1\n"
     ]
    },
    {
     "name": "stderr",
     "output_type": "stream",
     "text": [
      "Processing Batches:  46%|████▋     | 50/108 [16:10<17:50, 18.45s/batch]"
     ]
    },
    {
     "name": "stdout",
     "output_type": "stream",
     "text": [
      "Uploaded batch 1/1\n",
      "Uploaded batch 1/1\n",
      "Uploaded batch 1/1\n",
      "Uploaded batch 1/1\n"
     ]
    },
    {
     "name": "stderr",
     "output_type": "stream",
     "text": [
      "Processing Batches:  47%|████▋     | 51/108 [16:29<17:34, 18.50s/batch]"
     ]
    },
    {
     "name": "stdout",
     "output_type": "stream",
     "text": [
      "Uploaded batch 1/1\n",
      "Uploaded batch 1/1\n",
      "Uploaded batch 1/1\n",
      "Uploaded batch 1/1\n"
     ]
    },
    {
     "name": "stderr",
     "output_type": "stream",
     "text": [
      "Processing Batches:  48%|████▊     | 52/108 [16:49<17:45, 19.03s/batch]"
     ]
    },
    {
     "name": "stdout",
     "output_type": "stream",
     "text": [
      "Uploaded batch 1/1\n",
      "Uploaded batch 1/1\n",
      "Uploaded batch 1/1\n",
      "Uploaded batch 1/1\n"
     ]
    },
    {
     "name": "stderr",
     "output_type": "stream",
     "text": [
      "Processing Batches:  49%|████▉     | 53/108 [17:10<18:02, 19.68s/batch]"
     ]
    },
    {
     "name": "stdout",
     "output_type": "stream",
     "text": [
      "Uploaded batch 1/1\n",
      "Uploaded batch 1/1\n",
      "Uploaded batch 1/1\n",
      "Uploaded batch 1/1\n"
     ]
    },
    {
     "name": "stderr",
     "output_type": "stream",
     "text": [
      "Processing Batches:  50%|█████     | 54/108 [17:29<17:22, 19.31s/batch]"
     ]
    },
    {
     "name": "stdout",
     "output_type": "stream",
     "text": [
      "Uploaded batch 1/1\n",
      "Uploaded batch 1/1\n",
      "Uploaded batch 1/1\n",
      "Uploaded batch 1/1\n"
     ]
    },
    {
     "name": "stderr",
     "output_type": "stream",
     "text": [
      "Processing Batches:  51%|█████     | 55/108 [17:47<16:50, 19.07s/batch]"
     ]
    },
    {
     "name": "stdout",
     "output_type": "stream",
     "text": [
      "Uploaded batch 1/1\n",
      "Uploaded batch 1/1\n",
      "Uploaded batch 1/1\n",
      "Uploaded batch 1/1\n"
     ]
    },
    {
     "name": "stderr",
     "output_type": "stream",
     "text": [
      "Processing Batches:  52%|█████▏    | 56/108 [18:08<16:58, 19.58s/batch]"
     ]
    },
    {
     "name": "stdout",
     "output_type": "stream",
     "text": [
      "Uploaded batch 1/1\n",
      "Uploaded batch 1/1\n",
      "Uploaded batch 1/1\n",
      "Uploaded batch 1/1\n"
     ]
    },
    {
     "name": "stderr",
     "output_type": "stream",
     "text": [
      "Processing Batches:  53%|█████▎    | 57/108 [18:27<16:31, 19.44s/batch]"
     ]
    },
    {
     "name": "stdout",
     "output_type": "stream",
     "text": [
      "Uploaded batch 1/1\n",
      "Uploaded batch 1/1\n",
      "Uploaded batch 1/1\n",
      "Uploaded batch 1/1\n"
     ]
    },
    {
     "name": "stderr",
     "output_type": "stream",
     "text": [
      "Processing Batches:  54%|█████▎    | 58/108 [18:47<16:22, 19.66s/batch]"
     ]
    },
    {
     "name": "stdout",
     "output_type": "stream",
     "text": [
      "Uploaded batch 1/1\n",
      "Uploaded batch 1/1\n",
      "Uploaded batch 1/1\n",
      "Uploaded batch 1/1\n"
     ]
    },
    {
     "name": "stderr",
     "output_type": "stream",
     "text": [
      "Processing Batches:  55%|█████▍    | 59/108 [19:06<15:59, 19.58s/batch]"
     ]
    },
    {
     "name": "stdout",
     "output_type": "stream",
     "text": [
      "Uploaded batch 1/1\n",
      "Uploaded batch 1/1\n",
      "Uploaded batch 1/1\n",
      "Uploaded batch 1/1\n"
     ]
    },
    {
     "name": "stderr",
     "output_type": "stream",
     "text": [
      "Processing Batches:  56%|█████▌    | 60/108 [19:29<16:20, 20.43s/batch]"
     ]
    },
    {
     "name": "stdout",
     "output_type": "stream",
     "text": [
      "Uploaded batch 1/1\n",
      "Uploaded batch 1/1\n",
      "Uploaded batch 1/1\n",
      "Uploaded batch 1/1\n"
     ]
    },
    {
     "name": "stderr",
     "output_type": "stream",
     "text": [
      "Processing Batches:  56%|█████▋    | 61/108 [19:48<15:41, 20.03s/batch]"
     ]
    },
    {
     "name": "stdout",
     "output_type": "stream",
     "text": [
      "Uploaded batch 1/1\n",
      "Uploaded batch 1/1\n",
      "Uploaded batch 1/1\n",
      "Uploaded batch 1/1\n"
     ]
    },
    {
     "name": "stderr",
     "output_type": "stream",
     "text": [
      "Processing Batches:  57%|█████▋    | 62/108 [20:08<15:18, 19.97s/batch]"
     ]
    },
    {
     "name": "stdout",
     "output_type": "stream",
     "text": [
      "Uploaded batch 1/1\n",
      "Uploaded batch 1/1\n",
      "Uploaded batch 1/1\n",
      "Uploaded batch 1/1\n"
     ]
    },
    {
     "name": "stderr",
     "output_type": "stream",
     "text": [
      "Processing Batches:  58%|█████▊    | 63/108 [20:31<15:37, 20.83s/batch]"
     ]
    },
    {
     "name": "stdout",
     "output_type": "stream",
     "text": [
      "Uploaded batch 1/1\n",
      "Uploaded batch 1/1\n",
      "Uploaded batch 1/1\n",
      "Uploaded batch 1/1\n"
     ]
    },
    {
     "name": "stderr",
     "output_type": "stream",
     "text": [
      "Processing Batches:  59%|█████▉    | 64/108 [20:50<15:02, 20.51s/batch]"
     ]
    },
    {
     "name": "stdout",
     "output_type": "stream",
     "text": [
      "Uploaded batch 1/1\n",
      "Uploaded batch 1/1\n",
      "Uploaded batch 1/1\n",
      "Uploaded batch 1/1\n"
     ]
    },
    {
     "name": "stderr",
     "output_type": "stream",
     "text": [
      "Processing Batches:  60%|██████    | 65/108 [21:09<14:17, 19.95s/batch]"
     ]
    },
    {
     "name": "stdout",
     "output_type": "stream",
     "text": [
      "Uploaded batch 1/1\n",
      "Uploaded batch 1/1\n",
      "Uploaded batch 1/1\n",
      "Uploaded batch 1/1\n"
     ]
    },
    {
     "name": "stderr",
     "output_type": "stream",
     "text": [
      "Processing Batches:  61%|██████    | 66/108 [21:32<14:31, 20.74s/batch]"
     ]
    },
    {
     "name": "stdout",
     "output_type": "stream",
     "text": [
      "Uploaded batch 1/1\n",
      "Uploaded batch 1/1\n",
      "Uploaded batch 1/1\n",
      "Uploaded batch 1/1\n"
     ]
    },
    {
     "name": "stderr",
     "output_type": "stream",
     "text": [
      "Processing Batches:  62%|██████▏   | 67/108 [21:51<13:57, 20.43s/batch]"
     ]
    },
    {
     "name": "stdout",
     "output_type": "stream",
     "text": [
      "Uploaded batch 1/1\n",
      "Uploaded batch 1/1\n",
      "Uploaded batch 1/1\n",
      "Uploaded batch 1/1\n"
     ]
    },
    {
     "name": "stderr",
     "output_type": "stream",
     "text": [
      "Processing Batches:  63%|██████▎   | 68/108 [22:11<13:25, 20.13s/batch]"
     ]
    },
    {
     "name": "stdout",
     "output_type": "stream",
     "text": [
      "Uploaded batch 1/1\n",
      "Uploaded batch 1/1\n",
      "Uploaded batch 1/1\n",
      "Uploaded batch 1/1\n"
     ]
    },
    {
     "name": "stderr",
     "output_type": "stream",
     "text": [
      "Processing Batches:  64%|██████▍   | 69/108 [22:31<13:07, 20.19s/batch]"
     ]
    },
    {
     "name": "stdout",
     "output_type": "stream",
     "text": [
      "Uploaded batch 1/1\n",
      "Uploaded batch 1/1\n",
      "Uploaded batch 1/1\n",
      "Uploaded batch 1/1\n"
     ]
    },
    {
     "name": "stderr",
     "output_type": "stream",
     "text": [
      "Processing Batches:  65%|██████▍   | 70/108 [22:51<12:45, 20.15s/batch]"
     ]
    },
    {
     "name": "stdout",
     "output_type": "stream",
     "text": [
      "Uploaded batch 1/1\n",
      "Uploaded batch 1/1\n",
      "Uploaded batch 1/1\n",
      "Uploaded batch 1/1\n"
     ]
    },
    {
     "name": "stderr",
     "output_type": "stream",
     "text": [
      "Processing Batches:  66%|██████▌   | 71/108 [23:10<12:13, 19.84s/batch]"
     ]
    },
    {
     "name": "stdout",
     "output_type": "stream",
     "text": [
      "Uploaded batch 1/1\n",
      "Uploaded batch 1/1\n",
      "Uploaded batch 1/1\n",
      "Uploaded batch 1/1\n"
     ]
    },
    {
     "name": "stderr",
     "output_type": "stream",
     "text": [
      "Processing Batches:  67%|██████▋   | 72/108 [23:31<11:58, 19.96s/batch]"
     ]
    },
    {
     "name": "stdout",
     "output_type": "stream",
     "text": [
      "Uploaded batch 1/1\n",
      "Uploaded batch 1/1\n",
      "Uploaded batch 1/1\n",
      "Uploaded batch 1/1\n"
     ]
    },
    {
     "name": "stderr",
     "output_type": "stream",
     "text": [
      "Processing Batches:  68%|██████▊   | 73/108 [23:54<12:16, 21.05s/batch]"
     ]
    },
    {
     "name": "stdout",
     "output_type": "stream",
     "text": [
      "Uploaded batch 1/1\n",
      "Uploaded batch 1/1\n",
      "Uploaded batch 1/1\n",
      "Uploaded batch 1/1\n"
     ]
    },
    {
     "name": "stderr",
     "output_type": "stream",
     "text": [
      "Processing Batches:  69%|██████▊   | 74/108 [24:14<11:40, 20.61s/batch]"
     ]
    },
    {
     "name": "stdout",
     "output_type": "stream",
     "text": [
      "Uploaded batch 1/1\n",
      "Uploaded batch 1/1\n",
      "Uploaded batch 1/1\n",
      "Uploaded batch 1/1\n"
     ]
    },
    {
     "name": "stderr",
     "output_type": "stream",
     "text": [
      "Processing Batches:  69%|██████▉   | 75/108 [24:34<11:14, 20.43s/batch]"
     ]
    },
    {
     "name": "stdout",
     "output_type": "stream",
     "text": [
      "Uploaded batch 1/1\n",
      "Uploaded batch 1/1\n",
      "Uploaded batch 1/1\n",
      "Uploaded batch 1/1\n"
     ]
    },
    {
     "name": "stderr",
     "output_type": "stream",
     "text": [
      "Processing Batches:  70%|███████   | 76/108 [24:56<11:12, 21.03s/batch]"
     ]
    },
    {
     "name": "stdout",
     "output_type": "stream",
     "text": [
      "Uploaded batch 1/1\n",
      "Uploaded batch 1/1\n",
      "Uploaded batch 1/1\n",
      "Uploaded batch 1/1\n"
     ]
    },
    {
     "name": "stderr",
     "output_type": "stream",
     "text": [
      "Processing Batches:  71%|███████▏  | 77/108 [25:15<10:31, 20.37s/batch]"
     ]
    },
    {
     "name": "stdout",
     "output_type": "stream",
     "text": [
      "Uploaded batch 1/1\n",
      "Uploaded batch 1/1\n",
      "Uploaded batch 1/1\n",
      "Uploaded batch 1/1\n"
     ]
    },
    {
     "name": "stderr",
     "output_type": "stream",
     "text": [
      "Processing Batches:  72%|███████▏  | 78/108 [25:35<10:05, 20.19s/batch]"
     ]
    },
    {
     "name": "stdout",
     "output_type": "stream",
     "text": [
      "Uploaded batch 1/1\n",
      "Uploaded batch 1/1\n",
      "Uploaded batch 1/1\n",
      "Uploaded batch 1/1\n"
     ]
    },
    {
     "name": "stderr",
     "output_type": "stream",
     "text": [
      "Processing Batches:  73%|███████▎  | 79/108 [25:56<09:57, 20.59s/batch]"
     ]
    },
    {
     "name": "stdout",
     "output_type": "stream",
     "text": [
      "Uploaded batch 1/1\n",
      "Uploaded batch 1/1\n",
      "Uploaded batch 1/1\n",
      "Uploaded batch 1/1\n"
     ]
    },
    {
     "name": "stderr",
     "output_type": "stream",
     "text": [
      "Processing Batches:  74%|███████▍  | 80/108 [26:15<09:16, 19.88s/batch]"
     ]
    },
    {
     "name": "stdout",
     "output_type": "stream",
     "text": [
      "Uploaded batch 1/1\n",
      "Uploaded batch 1/1\n",
      "Uploaded batch 1/1\n",
      "Uploaded batch 1/1\n"
     ]
    },
    {
     "name": "stderr",
     "output_type": "stream",
     "text": [
      "Processing Batches:  75%|███████▌  | 81/108 [26:35<09:01, 20.07s/batch]"
     ]
    },
    {
     "name": "stdout",
     "output_type": "stream",
     "text": [
      "Uploaded batch 1/1\n",
      "Uploaded batch 1/1\n",
      "Uploaded batch 1/1\n",
      "Uploaded batch 1/1\n"
     ]
    },
    {
     "name": "stderr",
     "output_type": "stream",
     "text": [
      "Processing Batches:  76%|███████▌  | 82/108 [26:58<09:03, 20.92s/batch]"
     ]
    },
    {
     "name": "stdout",
     "output_type": "stream",
     "text": [
      "Uploaded batch 1/1\n",
      "Uploaded batch 1/1\n",
      "Uploaded batch 1/1\n",
      "Uploaded batch 1/1\n"
     ]
    },
    {
     "name": "stderr",
     "output_type": "stream",
     "text": [
      "Processing Batches:  77%|███████▋  | 83/108 [27:18<08:35, 20.60s/batch]"
     ]
    },
    {
     "name": "stdout",
     "output_type": "stream",
     "text": [
      "Uploaded batch 1/1\n",
      "Uploaded batch 1/1\n",
      "Uploaded batch 1/1\n",
      "Uploaded batch 1/1\n"
     ]
    },
    {
     "name": "stderr",
     "output_type": "stream",
     "text": [
      "Processing Batches:  78%|███████▊  | 84/108 [27:40<08:28, 21.20s/batch]"
     ]
    },
    {
     "name": "stdout",
     "output_type": "stream",
     "text": [
      "Uploaded batch 1/1\n",
      "Uploaded batch 1/1\n",
      "Uploaded batch 1/1\n",
      "Uploaded batch 1/1\n"
     ]
    },
    {
     "name": "stderr",
     "output_type": "stream",
     "text": [
      "Processing Batches:  79%|███████▊  | 85/108 [28:01<08:00, 20.87s/batch]"
     ]
    },
    {
     "name": "stdout",
     "output_type": "stream",
     "text": [
      "Uploaded batch 1/1\n",
      "Uploaded batch 1/1\n",
      "Uploaded batch 1/1\n",
      "Uploaded batch 1/1\n"
     ]
    },
    {
     "name": "stderr",
     "output_type": "stream",
     "text": [
      "Processing Batches:  80%|███████▉  | 86/108 [28:21<07:34, 20.64s/batch]"
     ]
    },
    {
     "name": "stdout",
     "output_type": "stream",
     "text": [
      "Uploaded batch 1/1\n",
      "Uploaded batch 1/1\n",
      "Uploaded batch 1/1\n",
      "Uploaded batch 1/1\n"
     ]
    },
    {
     "name": "stderr",
     "output_type": "stream",
     "text": [
      "Processing Batches:  81%|████████  | 87/108 [28:42<07:20, 20.99s/batch]"
     ]
    },
    {
     "name": "stdout",
     "output_type": "stream",
     "text": [
      "Uploaded batch 1/1\n",
      "Uploaded batch 1/1\n",
      "Uploaded batch 1/1\n",
      "Uploaded batch 1/1\n"
     ]
    },
    {
     "name": "stderr",
     "output_type": "stream",
     "text": [
      "Processing Batches:  81%|████████▏ | 88/108 [29:03<06:58, 20.94s/batch]"
     ]
    },
    {
     "name": "stdout",
     "output_type": "stream",
     "text": [
      "Uploaded batch 1/1\n",
      "Uploaded batch 1/1\n",
      "Uploaded batch 1/1\n",
      "Uploaded batch 1/1\n"
     ]
    },
    {
     "name": "stderr",
     "output_type": "stream",
     "text": [
      "Processing Batches:  82%|████████▏ | 89/108 [29:24<06:34, 20.77s/batch]"
     ]
    },
    {
     "name": "stdout",
     "output_type": "stream",
     "text": [
      "Uploaded batch 1/1\n",
      "Uploaded batch 1/1\n",
      "Uploaded batch 1/1\n",
      "Uploaded batch 1/1\n"
     ]
    },
    {
     "name": "stderr",
     "output_type": "stream",
     "text": [
      "Processing Batches:  83%|████████▎ | 90/108 [29:47<06:30, 21.71s/batch]"
     ]
    },
    {
     "name": "stdout",
     "output_type": "stream",
     "text": [
      "Uploaded batch 1/1\n",
      "Uploaded batch 1/1\n",
      "Uploaded batch 1/1\n",
      "Uploaded batch 1/1\n"
     ]
    },
    {
     "name": "stderr",
     "output_type": "stream",
     "text": [
      "Processing Batches:  84%|████████▍ | 91/108 [30:09<06:06, 21.56s/batch]"
     ]
    },
    {
     "name": "stdout",
     "output_type": "stream",
     "text": [
      "Uploaded batch 1/1\n",
      "Uploaded batch 1/1\n",
      "Uploaded batch 1/1\n",
      "Uploaded batch 1/1\n"
     ]
    },
    {
     "name": "stderr",
     "output_type": "stream",
     "text": [
      "Processing Batches:  85%|████████▌ | 92/108 [30:30<05:44, 21.54s/batch]"
     ]
    },
    {
     "name": "stdout",
     "output_type": "stream",
     "text": [
      "Uploaded batch 1/1\n",
      "Uploaded batch 1/1\n",
      "Uploaded batch 1/1\n",
      "Uploaded batch 1/1\n"
     ]
    },
    {
     "name": "stderr",
     "output_type": "stream",
     "text": [
      "Processing Batches:  86%|████████▌ | 93/108 [30:55<05:35, 22.37s/batch]"
     ]
    },
    {
     "name": "stdout",
     "output_type": "stream",
     "text": [
      "Uploaded batch 1/1\n",
      "Uploaded batch 1/1\n",
      "Uploaded batch 1/1\n",
      "Uploaded batch 1/1\n"
     ]
    },
    {
     "name": "stderr",
     "output_type": "stream",
     "text": [
      "Processing Batches:  87%|████████▋ | 94/108 [31:16<05:09, 22.10s/batch]"
     ]
    },
    {
     "name": "stdout",
     "output_type": "stream",
     "text": [
      "Uploaded batch 1/1\n",
      "Uploaded batch 1/1\n",
      "Uploaded batch 1/1\n",
      "Uploaded batch 1/1\n"
     ]
    },
    {
     "name": "stderr",
     "output_type": "stream",
     "text": [
      "Processing Batches:  88%|████████▊ | 95/108 [31:37<04:41, 21.68s/batch]"
     ]
    },
    {
     "name": "stdout",
     "output_type": "stream",
     "text": [
      "Uploaded batch 1/1\n",
      "Uploaded batch 1/1\n",
      "Uploaded batch 1/1\n",
      "Uploaded batch 1/1\n"
     ]
    },
    {
     "name": "stderr",
     "output_type": "stream",
     "text": [
      "Processing Batches:  89%|████████▉ | 96/108 [32:00<04:26, 22.18s/batch]"
     ]
    },
    {
     "name": "stdout",
     "output_type": "stream",
     "text": [
      "Uploaded batch 1/1\n",
      "Uploaded batch 1/1\n",
      "Uploaded batch 1/1\n",
      "Uploaded batch 1/1\n"
     ]
    },
    {
     "name": "stderr",
     "output_type": "stream",
     "text": [
      "Processing Batches:  90%|████████▉ | 97/108 [32:21<03:58, 21.68s/batch]"
     ]
    },
    {
     "name": "stdout",
     "output_type": "stream",
     "text": [
      "Uploaded batch 1/1\n",
      "Uploaded batch 1/1\n",
      "Uploaded batch 1/1\n",
      "Uploaded batch 1/1\n"
     ]
    },
    {
     "name": "stderr",
     "output_type": "stream",
     "text": [
      "Processing Batches:  91%|█████████ | 98/108 [32:41<03:32, 21.27s/batch]"
     ]
    },
    {
     "name": "stdout",
     "output_type": "stream",
     "text": [
      "Uploaded batch 1/1\n",
      "Uploaded batch 1/1\n",
      "Uploaded batch 1/1\n",
      "Uploaded batch 1/1\n"
     ]
    },
    {
     "name": "stderr",
     "output_type": "stream",
     "text": [
      "Processing Batches:  92%|█████████▏| 99/108 [33:03<03:14, 21.65s/batch]"
     ]
    },
    {
     "name": "stdout",
     "output_type": "stream",
     "text": [
      "Uploaded batch 1/1\n",
      "Uploaded batch 1/1\n",
      "Uploaded batch 1/1\n",
      "Uploaded batch 1/1\n"
     ]
    },
    {
     "name": "stderr",
     "output_type": "stream",
     "text": [
      "Processing Batches:  93%|█████████▎| 100/108 [33:24<02:50, 21.29s/batch]"
     ]
    },
    {
     "name": "stdout",
     "output_type": "stream",
     "text": [
      "Uploaded batch 1/1\n",
      "Uploaded batch 1/1\n",
      "Uploaded batch 1/1\n",
      "Uploaded batch 1/1\n"
     ]
    },
    {
     "name": "stderr",
     "output_type": "stream",
     "text": [
      "Processing Batches:  94%|█████████▎| 101/108 [33:44<02:26, 20.92s/batch]"
     ]
    },
    {
     "name": "stdout",
     "output_type": "stream",
     "text": [
      "Uploaded batch 1/1\n",
      "Uploaded batch 1/1\n",
      "Uploaded batch 1/1\n",
      "Uploaded batch 1/1\n"
     ]
    },
    {
     "name": "stderr",
     "output_type": "stream",
     "text": [
      "Processing Batches:  94%|█████████▍| 102/108 [34:05<02:06, 21.04s/batch]"
     ]
    },
    {
     "name": "stdout",
     "output_type": "stream",
     "text": [
      "Uploaded batch 1/1\n",
      "Uploaded batch 1/1\n",
      "Uploaded batch 1/1\n",
      "Uploaded batch 1/1\n"
     ]
    },
    {
     "name": "stderr",
     "output_type": "stream",
     "text": [
      "Processing Batches:  95%|█████████▌| 103/108 [34:26<01:44, 20.83s/batch]"
     ]
    },
    {
     "name": "stdout",
     "output_type": "stream",
     "text": [
      "Uploaded batch 1/1\n",
      "Uploaded batch 1/1\n",
      "Uploaded batch 1/1\n",
      "Uploaded batch 1/1\n"
     ]
    },
    {
     "name": "stderr",
     "output_type": "stream",
     "text": [
      "Processing Batches:  96%|█████████▋| 104/108 [34:53<01:31, 22.80s/batch]"
     ]
    },
    {
     "name": "stdout",
     "output_type": "stream",
     "text": [
      "Uploaded batch 1/1\n",
      "Uploaded batch 1/1\n",
      "Uploaded batch 1/1\n",
      "Uploaded batch 1/1\n"
     ]
    },
    {
     "name": "stderr",
     "output_type": "stream",
     "text": [
      "Processing Batches:  97%|█████████▋| 105/108 [35:21<01:13, 24.36s/batch]"
     ]
    },
    {
     "name": "stdout",
     "output_type": "stream",
     "text": [
      "Uploaded batch 1/1\n",
      "Uploaded batch 1/1\n",
      "Uploaded batch 1/1\n",
      "Uploaded batch 1/1\n"
     ]
    },
    {
     "name": "stderr",
     "output_type": "stream",
     "text": [
      "Processing Batches:  98%|█████████▊| 106/108 [35:46<00:49, 24.50s/batch]"
     ]
    },
    {
     "name": "stdout",
     "output_type": "stream",
     "text": [
      "Uploaded batch 1/1\n",
      "Uploaded batch 1/1\n",
      "Uploaded batch 1/1\n",
      "Uploaded batch 1/1\n"
     ]
    },
    {
     "name": "stderr",
     "output_type": "stream",
     "text": [
      "Processing Batches:  99%|█████████▉| 107/108 [36:09<00:24, 24.16s/batch]"
     ]
    },
    {
     "name": "stdout",
     "output_type": "stream",
     "text": [
      "Uploaded batch 1/1\n",
      "Uploaded batch 1/1\n",
      "Uploaded batch 1/1\n"
     ]
    },
    {
     "name": "stderr",
     "output_type": "stream",
     "text": [
      "Processing Batches: 100%|██████████| 108/108 [36:21<00:00, 20.20s/batch]"
     ]
    },
    {
     "name": "stdout",
     "output_type": "stream",
     "text": [
      "Uploaded batch 1/1\n",
      "All batches uploaded successfully.\n"
     ]
    },
    {
     "name": "stderr",
     "output_type": "stream",
     "text": [
      "\n"
     ]
    }
   ],
   "source": [
    "embed_model = \"aari1995/German_Semantic_V3\"\n",
    "embed_model_name = embed_model.split(\"/\")[1].replace('_','-').lower()\n",
    "model_dimension = 1024\n",
    "\n",
    "index_name = f'{embed_model_name}-{suffix}-{max_tokens}'\n",
    "\n",
    "vec_con = PineconeDBConnectorHybrid(api_key=API_PINE_CONE,\n",
    "                                    index_name=index_name,\n",
    "                                    embedding_model_name_dense=embed_model,\n",
    "                                    dimension=model_dimension)\n",
    "\n",
    "\n",
    "embedding_handler = EmbeddingHandler(\n",
    "    model_name=embed_model,  # Replace with your transformer model\n",
    "    use_api=False,  # Set to True if using API\n",
    ")\n",
    "\n",
    "process_and_upload(chunks=upsert_list,\n",
    "                   pinecone_connector=vec_con,\n",
    "                   embedding_handler=embedding_handler,\n",
    "                   use_sparse=True\n",
    "                   )\n"
   ]
  },
  {
   "cell_type": "code",
   "execution_count": null,
   "metadata": {},
   "outputs": [
    {
     "name": "stdout",
     "output_type": "stream",
     "text": [
      "Embedding Dimension: 1024\n",
      "Created new Pinecone index: multilingual-e5-large-instruct-clean-250\n"
     ]
    },
    {
     "data": {
      "application/vnd.jupyter.widget-view+json": {
       "model_id": "d6fea87231554eb1811de2a2c41a71dd",
       "version_major": 2,
       "version_minor": 0
      },
      "text/plain": [
       "modules.json:   0%|          | 0.00/349 [00:00<?, ?B/s]"
      ]
     },
     "metadata": {},
     "output_type": "display_data"
    },
    {
     "data": {
      "application/vnd.jupyter.widget-view+json": {
       "model_id": "647ac52e37fe4dcf8b10bb4b875463e3",
       "version_major": 2,
       "version_minor": 0
      },
      "text/plain": [
       "config_sentence_transformers.json:   0%|          | 0.00/128 [00:00<?, ?B/s]"
      ]
     },
     "metadata": {},
     "output_type": "display_data"
    },
    {
     "data": {
      "application/vnd.jupyter.widget-view+json": {
       "model_id": "94f80955a723481aabd88cb5455d5c35",
       "version_major": 2,
       "version_minor": 0
      },
      "text/plain": [
       "README.md:   0%|          | 0.00/140k [00:00<?, ?B/s]"
      ]
     },
     "metadata": {},
     "output_type": "display_data"
    },
    {
     "data": {
      "application/vnd.jupyter.widget-view+json": {
       "model_id": "e9b888675e854e2c9e75d854655b825c",
       "version_major": 2,
       "version_minor": 0
      },
      "text/plain": [
       "config.json:   0%|          | 0.00/690 [00:00<?, ?B/s]"
      ]
     },
     "metadata": {},
     "output_type": "display_data"
    },
    {
     "data": {
      "application/vnd.jupyter.widget-view+json": {
       "model_id": "00b50cc7b6394edd8e8889f653852847",
       "version_major": 2,
       "version_minor": 0
      },
      "text/plain": [
       "model.safetensors:   0%|          | 0.00/1.12G [00:00<?, ?B/s]"
      ]
     },
     "metadata": {},
     "output_type": "display_data"
    },
    {
     "data": {
      "application/vnd.jupyter.widget-view+json": {
       "model_id": "ed3ef50d9ac44630a667a923e8776f1a",
       "version_major": 2,
       "version_minor": 0
      },
      "text/plain": [
       "tokenizer_config.json:   0%|          | 0.00/1.18k [00:00<?, ?B/s]"
      ]
     },
     "metadata": {},
     "output_type": "display_data"
    },
    {
     "data": {
      "application/vnd.jupyter.widget-view+json": {
       "model_id": "071048d7e6d8448cad3f872f6e688fa8",
       "version_major": 2,
       "version_minor": 0
      },
      "text/plain": [
       "sentencepiece.bpe.model:   0%|          | 0.00/5.07M [00:00<?, ?B/s]"
      ]
     },
     "metadata": {},
     "output_type": "display_data"
    },
    {
     "data": {
      "application/vnd.jupyter.widget-view+json": {
       "model_id": "f11516f4ada64283bb16152ed342b71a",
       "version_major": 2,
       "version_minor": 0
      },
      "text/plain": [
       "tokenizer.json:   0%|          | 0.00/17.1M [00:00<?, ?B/s]"
      ]
     },
     "metadata": {},
     "output_type": "display_data"
    },
    {
     "data": {
      "application/vnd.jupyter.widget-view+json": {
       "model_id": "2be4f69a40de451da1a4de766ec957c6",
       "version_major": 2,
       "version_minor": 0
      },
      "text/plain": [
       "special_tokens_map.json:   0%|          | 0.00/964 [00:00<?, ?B/s]"
      ]
     },
     "metadata": {},
     "output_type": "display_data"
    },
    {
     "data": {
      "application/vnd.jupyter.widget-view+json": {
       "model_id": "68f323db35fc40c3a0ed1a814a274815",
       "version_major": 2,
       "version_minor": 0
      },
      "text/plain": [
       "1_Pooling/config.json:   0%|          | 0.00/271 [00:00<?, ?B/s]"
      ]
     },
     "metadata": {},
     "output_type": "display_data"
    },
    {
     "name": "stderr",
     "output_type": "stream",
     "text": [
      "Processing Batches: 100%|██████████| 108/108 [34:49<00:00, 19.35s/batch]"
     ]
    },
    {
     "name": "stdout",
     "output_type": "stream",
     "text": [
      "All batches uploaded successfully.\n"
     ]
    },
    {
     "name": "stderr",
     "output_type": "stream",
     "text": [
      "\n"
     ]
    }
   ],
   "source": [
    "embed_model = \"intfloat/multilingual-e5-large-instruct\"\n",
    "embed_model_name = embed_model.split(\"/\")[1]\n",
    "model_dimension = 1024\n",
    "\n",
    "index_name = f'{embed_model_name}-{suffix}-{max_tokens}'\n",
    "\n",
    "vec_con = PineconeDBConnectorHybrid(api_key=API_PINE_CONE,\n",
    "                                    index_name=index_name,\n",
    "                                    embedding_model_name_dense=embed_model,\n",
    "                                    dimension=model_dimension)\n",
    "\n",
    "\n",
    "embedding_handler = EmbeddingHandler(\n",
    "    model_name=embed_model,  # Replace with your transformer model\n",
    "    use_api=False,  # Set to True if using API\n",
    ")\n",
    "\n",
    "process_and_upload(chunks=upsert_list,\n",
    "                   pinecone_connector=vec_con,\n",
    "                   embedding_handler=embedding_handler,\n",
    "                   use_sparse=True\n",
    "                   )\n"
   ]
  },
  {
   "cell_type": "code",
   "execution_count": 4,
   "metadata": {},
   "outputs": [
    {
     "data": {
      "image/png": "[encoded data removed]",
      "text/plain": [
       "<Figure size 1000x200 with 1 Axes>"
      ]
     },
     "metadata": {},
     "output_type": "display_data"
    }
   ],
   "source": [
    "import matplotlib.pyplot as plt\n",
    "from matplotlib.patches import FancyBboxPatch\n",
    "\n",
    "# Set up the figure and axes\n",
    "fig, ax = plt.subplots(figsize=(10, 2))\n",
    "ax.axis(\"off\")\n",
    "\n",
    "# Draw rectangles\n",
    "def draw_box(ax, x, y, text, width=2, height=0.8, color=\"lightgrey\"):\n",
    "    box = FancyBboxPatch((x, y), width, height, boxstyle=\"round,pad=0.1\", ec=\"black\", fc=color)\n",
    "    ax.add_patch(box)\n",
    "    ax.text(x + width / 2, y + height / 2, text, ha=\"center\", va=\"center\", fontsize=12)\n",
    "\n",
    "# Draw arrows outside the boxes\n",
    "def draw_arrow(ax, x_start, y_start, x_end, y_end):\n",
    "    ax.arrow(x_start, y_start, x_end - x_start, y_end - y_start,\n",
    "             head_width=0.1, head_length=0.2, fc=\"black\", ec=\"black\", length_includes_head=True)\n",
    "\n",
    "# Positioning for boxes\n",
    "x_positions = [1, 4.5, 8]\n",
    "y_position = 1\n",
    "texts = [\"Indexing\", \"Retrieval\", \"Generation\"]\n",
    "\n",
    "# Draw the boxes and text\n",
    "for i, text in enumerate(texts):\n",
    "    draw_box(ax, x_positions[i], y_position, text)\n",
    "\n",
    "# Draw the arrows outside the boxes (adjusted positioning)\n",
    "arrow_start = y_position + 0.4  # Arrow height\n",
    "arrow_end = arrow_start\n",
    "for i in range(len(x_positions) - 1):\n",
    "    draw_arrow(ax, x_positions[i] + 2.1, arrow_start, x_positions[i + 1] - 0.1, arrow_end)\n",
    "\n",
    "# Add a centered title (adjusted position)\n",
    "ax.text(5, y_position + 1.8, \"Basic RAG Workflow\", ha=\"center\", va=\"center\", fontsize=14, fontweight=\"bold\")\n",
    "\n",
    "plt.show()"
   ]
  },
  {
   "cell_type": "code",
   "execution_count": 8,
   "metadata": {},
   "outputs": [
    {
     "data": {
      "text/plain": [
       "'/Users/rodolfocacacho/Documents/Documents/MAI/Master Thesis/Code/rag_clean_v2/data/code'"
      ]
     },
     "execution_count": 8,
     "metadata": {},
     "output_type": "execute_result"
    }
   ],
   "source": [
    "import os\n",
    "os.getcwd()"
   ]
  },
  {
   "cell_type": "code",
   "execution_count": 19,
   "metadata": {},
   "outputs": [
    {
     "data": {
      "image/png": "[encoded data removed]",
      "text/plain": [
       "<Figure size 1200x800 with 1 Axes>"
      ]
     },
     "metadata": {},
     "output_type": "display_data"
    }
   ],
   "source": [
    "import pandas as pd\n",
    "import matplotlib.pyplot as plt\n",
    "from sklearn.preprocessing import MinMaxScaler\n",
    "\n",
    "# Load the CSV file\n",
    "file_path = \"/Users/rodolfocacacho/Documents/Documents/MAI/Master Thesis/Code/rag_clean_v2/data/extra/multiTimeline-2.csv\"  # Replace with your CSV file path\n",
    "data = pd.read_csv(file_path,skiprows=1)\n",
    "\n",
    "# Assuming the CSV has columns: 'date', 'value1', 'value2'\n",
    "data['Month'] = pd.to_datetime(data['Month'])  # Convert date to datetime\n",
    "data.set_index('Month', inplace=True)\n",
    "\n",
    "# Scale the values\n",
    "scaler = MinMaxScaler()\n",
    "scaled_values = scaler.fit_transform(data[['bm25: (Worldwide)', 'Retrieval-augmented generation: (Worldwide)']])\n",
    "data['value1_scaled'], data['value2_scaled'] = scaled_values.T\n",
    "\n",
    "# Plot the trends\n",
    "plt.figure(figsize=(12, 8))\n",
    "plt.plot(data.index, data['value1_scaled'], label='BM25')  # Removed marker\n",
    "plt.plot(data.index, data['value2_scaled'], label='RAG')  # Removed marker\n",
    "\n",
    "# Customize the plot\n",
    "plt.title('Trends', fontsize=18)\n",
    "plt.xlabel('Date', fontsize=16)\n",
    "plt.ylabel('Scaled Values', fontsize=16)\n",
    "plt.legend(fontsize=20)  # Adjust the legend size\n",
    "plt.xticks(rotation=45)\n",
    "plt.tight_layout()\n",
    "\n",
    "# Show the plot\n",
    "plt.show()"
   ]
  },
  {
   "cell_type": "code",
   "execution_count": 28,
   "metadata": {},
   "outputs": [
    {
     "data": {
      "image/png": "[encoded data removed]",
      "text/plain": [
       "<Figure size 1200x800 with 1 Axes>"
      ]
     },
     "metadata": {},
     "output_type": "display_data"
    }
   ],
   "source": [
    "import pandas as pd\n",
    "import matplotlib.pyplot as plt\n",
    "from sklearn.preprocessing import MinMaxScaler\n",
    "\n",
    "# File paths\n",
    "file1 = \"/Users/rodolfocacacho/Documents/Documents/MAI/Master Thesis/Code/rag_clean_v2/data/extra/multiTimeline-4.csv\"  # Replace with your CSV file path\n",
    "file2 = \"/Users/rodolfocacacho/Documents/Documents/MAI/Master Thesis/Code/rag_clean_v2/data/extra/multiTimeline-5.csv\"  # Replace with your CSV file path\n",
    "\n",
    "# Read the data\n",
    "data1 = pd.read_csv(file1,skiprows=1)\n",
    "data2 = pd.read_csv(file2,skiprows=1)\n",
    "\n",
    "# Ensure the date columns are in datetime format\n",
    "data1['Month'] = pd.to_datetime(data1['Month'])  # Adjust column name if needed\n",
    "data2['Month'] = pd.to_datetime(data2['Month'])  # Adjust column name if needed\n",
    "\n",
    "# Merge the data on 'Month' (or adjust if your column names differ)\n",
    "merged_data = pd.merge(data1, data2, on='Month')\n",
    "\n",
    "# Select and scale the values for plotting\n",
    "scaler = MinMaxScaler()\n",
    "scaled_values = scaler.fit_transform(merged_data[['bm25: (Worldwide)', 'Retrieval-augmented generation: (Worldwide)']])  # Adjust column names\n",
    "merged_data['value1_scaled'], merged_data['value2_scaled'] = scaled_values.T\n",
    "\n",
    "# Plot the trends\n",
    "plt.figure(figsize=(12, 8))\n",
    "plt.plot(merged_data['Month'], merged_data['value1_scaled'], label='BM25')  # Smooth line\n",
    "plt.plot(merged_data['Month'], merged_data['value2_scaled'], label='RAG')  # Smooth line\n",
    "\n",
    "# Customize the plot\n",
    "plt.title('Evolution of BM25 and RAG Popularity Over Time', fontsize=18)\n",
    "plt.xlabel('Date', fontsize=16)\n",
    "plt.ylabel('Interest over time', fontsize=16)\n",
    "plt.legend(fontsize=20)  # Adjust the legend size\n",
    "plt.xticks(rotation=45)\n",
    "plt.tight_layout()\n",
    "\n",
    "# Show the plot\n",
    "plt.show()"
   ]
  }
 ],
 "metadata": {
  "kernelspec": {
   "display_name": "rag_unstructured",
   "language": "python",
   "name": "python3"
  },
  "language_info": {
   "codemirror_mode": {
    "name": "ipython",
    "version": 3
   },
   "file_extension": ".py",
   "mimetype": "text/x-python",
   "name": "python",
   "nbconvert_exporter": "python",
   "pygments_lexer": "ipython3",
   "version": "3.10.14"
  }
 },
 "nbformat": 4,
 "nbformat_minor": 2
}
