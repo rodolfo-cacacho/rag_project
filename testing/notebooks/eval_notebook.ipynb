{
 "cells": [
  {
   "cell_type": "code",
   "execution_count": 50,
   "metadata": {},
   "outputs": [
    {
     "ename": "KeyError",
     "evalue": "'device'",
     "output_type": "error",
     "traceback": [
      "\u001b[0;31m---------------------------------------------------------------------------\u001b[0m",
      "\u001b[0;31mKeyError\u001b[0m                                  Traceback (most recent call last)",
      "Cell \u001b[0;32mIn[50], line 27\u001b[0m\n\u001b[1;32m     23\u001b[0m TEST_NAME \u001b[38;5;241m=\u001b[39m \u001b[38;5;124m\"\u001b[39m\u001b[38;5;124mtestJinaDE500\u001b[39m\u001b[38;5;124m\"\u001b[39m\n\u001b[1;32m     25\u001b[0m sql_con \u001b[38;5;241m=\u001b[39m MySQLDB(CONFIG_SQL_DB,DB_NAME)\n\u001b[0;32m---> 27\u001b[0m ragEval \u001b[38;5;241m=\u001b[39m \u001b[43mRAGEvaluator\u001b[49m\u001b[43m(\u001b[49m\u001b[43msql_con\u001b[49m\u001b[38;5;241;43m=\u001b[39;49m\u001b[43msql_con\u001b[49m\u001b[43m,\u001b[49m\n\u001b[1;32m     28\u001b[0m \u001b[43m                       \u001b[49m\u001b[43mtest_name\u001b[49m\u001b[38;5;241;43m=\u001b[39;49m\u001b[43mTEST_NAME\u001b[49m\u001b[43m,\u001b[49m\n\u001b[1;32m     29\u001b[0m \u001b[43m                       \u001b[49m\u001b[43mtest_table_name\u001b[49m\u001b[38;5;241;43m=\u001b[39;49m\u001b[43mTEST_RESULTS_TABLE\u001b[49m\u001b[43m,\u001b[49m\n\u001b[1;32m     30\u001b[0m \u001b[43m                       \u001b[49m\u001b[43mqas_table_name\u001b[49m\u001b[38;5;241;43m=\u001b[39;49m\u001b[43mSQL_EVAL_QAS_TABLE\u001b[49m\u001b[43m,\u001b[49m\n\u001b[1;32m     31\u001b[0m \u001b[43m                       \u001b[49m\u001b[43mchunks_eval_table_name\u001b[49m\u001b[38;5;241;43m=\u001b[39;49m\u001b[43mSQL_EVAL_CHUNKS_TABLE\u001b[49m\u001b[43m,\u001b[49m\n\u001b[1;32m     32\u001b[0m \u001b[43m                       \u001b[49m\u001b[43mprompts_table_name\u001b[49m\u001b[38;5;241;43m=\u001b[39;49m\u001b[43mSQL_PROMPTS_TABLE\u001b[49m\u001b[43m)\u001b[49m\n\u001b[1;32m     34\u001b[0m df_results \u001b[38;5;241m=\u001b[39m ragEval\u001b[38;5;241m.\u001b[39mdata_df\n\u001b[1;32m     36\u001b[0m \u001b[38;5;28mprint\u001b[39m(df_results\u001b[38;5;241m.\u001b[39mhead(\u001b[38;5;241m5\u001b[39m))\n",
      "File \u001b[0;32m~/Documents/Documents/MAI/Master Thesis/Code/rag_project/testing/modules/evaluating_modules.py:16\u001b[0m, in \u001b[0;36mRAGEvaluator.__init__\u001b[0;34m(self, sql_con, test_name, test_table_name, qas_table_name, chunks_eval_table_name, prompts_table_name)\u001b[0m\n\u001b[1;32m     14\u001b[0m \u001b[38;5;28mself\u001b[39m\u001b[38;5;241m.\u001b[39mchunks_eval_table_name \u001b[38;5;241m=\u001b[39m chunks_eval_table_name\n\u001b[1;32m     15\u001b[0m \u001b[38;5;28mself\u001b[39m\u001b[38;5;241m.\u001b[39mprompts_table_name \u001b[38;5;241m=\u001b[39m prompts_table_name\n\u001b[0;32m---> 16\u001b[0m \u001b[38;5;28mself\u001b[39m\u001b[38;5;241m.\u001b[39mdata_df \u001b[38;5;241m=\u001b[39m \u001b[38;5;28;43mself\u001b[39;49m\u001b[38;5;241;43m.\u001b[39;49m\u001b[43mfetch_data\u001b[49m\u001b[43m(\u001b[49m\u001b[43m)\u001b[49m\n",
      "File \u001b[0;32m~/Documents/Documents/MAI/Master Thesis/Code/rag_project/testing/modules/evaluating_modules.py:75\u001b[0m, in \u001b[0;36mRAGEvaluator.fetch_data\u001b[0;34m(self)\u001b[0m\n\u001b[1;32m     72\u001b[0m prompts_data \u001b[38;5;241m=\u001b[39m \u001b[38;5;28mself\u001b[39m\u001b[38;5;241m.\u001b[39msql_con\u001b[38;5;241m.\u001b[39mget_records(\u001b[38;5;28mself\u001b[39m\u001b[38;5;241m.\u001b[39mprompts_table_name,prompts_cols,prompts_conditions)\n\u001b[1;32m     74\u001b[0m prompts_df \u001b[38;5;241m=\u001b[39m pd\u001b[38;5;241m.\u001b[39mDataFrame(prompts_data)\n\u001b[0;32m---> 75\u001b[0m prompts_df[\u001b[38;5;124m'\u001b[39m\u001b[38;5;124mdevice\u001b[39m\u001b[38;5;124m'\u001b[39m] \u001b[38;5;241m=\u001b[39m \u001b[43mprompts_df\u001b[49m\u001b[43m[\u001b[49m\u001b[38;5;124;43m'\u001b[39;49m\u001b[38;5;124;43mdevice\u001b[39;49m\u001b[38;5;124;43m'\u001b[39;49m\u001b[43m]\u001b[49m\u001b[38;5;241m.\u001b[39mstr\u001b[38;5;241m.\u001b[39mlower()\n\u001b[1;32m     77\u001b[0m results_df \u001b[38;5;241m=\u001b[39m pd\u001b[38;5;241m.\u001b[39mmerge(results_df,prompts_df,on\u001b[38;5;241m=\u001b[39m[\u001b[38;5;124m'\u001b[39m\u001b[38;5;124mprompt_id\u001b[39m\u001b[38;5;124m'\u001b[39m,\u001b[38;5;124m'\u001b[39m\u001b[38;5;124mdevice\u001b[39m\u001b[38;5;124m'\u001b[39m],how\u001b[38;5;241m=\u001b[39m\u001b[38;5;124m'\u001b[39m\u001b[38;5;124minner\u001b[39m\u001b[38;5;124m'\u001b[39m)\n\u001b[1;32m     79\u001b[0m \u001b[38;5;28;01mreturn\u001b[39;00m results_df\n",
      "File \u001b[0;32m~/miniforge3/envs/rag_unstructured/lib/python3.10/site-packages/pandas/core/frame.py:4102\u001b[0m, in \u001b[0;36mDataFrame.__getitem__\u001b[0;34m(self, key)\u001b[0m\n\u001b[1;32m   4100\u001b[0m \u001b[38;5;28;01mif\u001b[39;00m \u001b[38;5;28mself\u001b[39m\u001b[38;5;241m.\u001b[39mcolumns\u001b[38;5;241m.\u001b[39mnlevels \u001b[38;5;241m>\u001b[39m \u001b[38;5;241m1\u001b[39m:\n\u001b[1;32m   4101\u001b[0m     \u001b[38;5;28;01mreturn\u001b[39;00m \u001b[38;5;28mself\u001b[39m\u001b[38;5;241m.\u001b[39m_getitem_multilevel(key)\n\u001b[0;32m-> 4102\u001b[0m indexer \u001b[38;5;241m=\u001b[39m \u001b[38;5;28;43mself\u001b[39;49m\u001b[38;5;241;43m.\u001b[39;49m\u001b[43mcolumns\u001b[49m\u001b[38;5;241;43m.\u001b[39;49m\u001b[43mget_loc\u001b[49m\u001b[43m(\u001b[49m\u001b[43mkey\u001b[49m\u001b[43m)\u001b[49m\n\u001b[1;32m   4103\u001b[0m \u001b[38;5;28;01mif\u001b[39;00m is_integer(indexer):\n\u001b[1;32m   4104\u001b[0m     indexer \u001b[38;5;241m=\u001b[39m [indexer]\n",
      "File \u001b[0;32m~/miniforge3/envs/rag_unstructured/lib/python3.10/site-packages/pandas/core/indexes/range.py:417\u001b[0m, in \u001b[0;36mRangeIndex.get_loc\u001b[0;34m(self, key)\u001b[0m\n\u001b[1;32m    415\u001b[0m         \u001b[38;5;28;01mraise\u001b[39;00m \u001b[38;5;167;01mKeyError\u001b[39;00m(key) \u001b[38;5;28;01mfrom\u001b[39;00m \u001b[38;5;21;01merr\u001b[39;00m\n\u001b[1;32m    416\u001b[0m \u001b[38;5;28;01mif\u001b[39;00m \u001b[38;5;28misinstance\u001b[39m(key, Hashable):\n\u001b[0;32m--> 417\u001b[0m     \u001b[38;5;28;01mraise\u001b[39;00m \u001b[38;5;167;01mKeyError\u001b[39;00m(key)\n\u001b[1;32m    418\u001b[0m \u001b[38;5;28mself\u001b[39m\u001b[38;5;241m.\u001b[39m_check_indexing_error(key)\n\u001b[1;32m    419\u001b[0m \u001b[38;5;28;01mraise\u001b[39;00m \u001b[38;5;167;01mKeyError\u001b[39;00m(key)\n",
      "\u001b[0;31mKeyError\u001b[0m: 'device'"
     ]
    }
   ],
   "source": [
    "import os\n",
    "import sys\n",
    "\n",
    "# Set the root directory of your project\n",
    "project_root = '/Users/rodolfocacacho/Documents/Documents/MAI/Master Thesis/Code/rag_project'\n",
    "os.chdir(project_root)\n",
    "# Add the root directory to sys.path\n",
    "if project_root not in sys.path:\n",
    "    sys.path.append(project_root)\n",
    "\n",
    "from config import (CONFIG_SQL_DB,DB_NAME,\n",
    "                    SQL_EVAL_QAS_TABLE_SCHEMA,\n",
    "                    SQL_EVAL_QAS_TABLE, \n",
    "                    EMBEDDING_MODEL,EMBEDDING_MODEL_API,\n",
    "                    EMBEDDING_MODEL_EMB_TASK,\n",
    "                    TEST_RESULTS_TABLE,SQL_EVAL_CHUNKS_TABLE,\n",
    "                    SQL_PROMPTS_TABLE)\n",
    "from utils.MySQLDB_manager import MySQLDB\n",
    "from testing.modules.evaluating_modules import RAGEvaluator\n",
    "from utils.embedding_handler import EmbeddingHandler\n",
    "import json\n",
    "\n",
    "TEST_NAME = \"testJinaDE500\"\n",
    "\n",
    "sql_con = MySQLDB(CONFIG_SQL_DB,DB_NAME)\n",
    "\n",
    "ragEval = RAGEvaluator(sql_con=sql_con,\n",
    "                       test_name=TEST_NAME,\n",
    "                       test_table_name=TEST_RESULTS_TABLE,\n",
    "                       qas_table_name=SQL_EVAL_QAS_TABLE,\n",
    "                       chunks_eval_table_name=SQL_EVAL_CHUNKS_TABLE,\n",
    "                       prompts_table_name=SQL_PROMPTS_TABLE)\n",
    "\n",
    "df_results = ragEval.data_df\n",
    "\n",
    "print(df_results.head(5))\n",
    "print(df_results.columns)\n",
    "print(df_results.shape)\n",
    "\n",
    "print(ragEval.generate_report())\n"
   ]
  },
  {
   "cell_type": "code",
   "execution_count": 49,
   "metadata": {},
   "outputs": [
    {
     "name": "stdout",
     "output_type": "stream",
     "text": [
      "Used: 0.027848101265822784 Used Ext: 0.0379746835443038\n",
      "Retrieved: 0.0810126582278481 Retrieved Ext: 0.15443037974683543\n",
      "0\n"
     ]
    }
   ],
   "source": [
    "def get_adj_ids(id, last_id, dif=1):\n",
    "    \"\"\"\n",
    "    Get all adjacent IDs within a given difference from the original ID.\n",
    "    \n",
    "    Args:\n",
    "        id (str): The current ID in the format \"base.cid\".\n",
    "        last_id (str): The last ID in the format \"base.lid\".\n",
    "        dif (int): The difference to consider for adjacent IDs.\n",
    "\n",
    "    Returns:\n",
    "        list: A list of adjacent IDs within the specified range.\n",
    "    \"\"\"\n",
    "    adjs_ids = []\n",
    "\n",
    "    # Split and parse the base and numeric parts\n",
    "    base, cid = id.split('.')\n",
    "    _, lid = last_id.split('.')\n",
    "\n",
    "    # Convert to integers\n",
    "    cid = int(cid)\n",
    "    lid = int(lid)\n",
    "\n",
    "    # Generate all IDs within the range [cid-dif, cid+dif]\n",
    "    for offset in range(-dif, dif + 1):\n",
    "        adj_cid = cid + offset\n",
    "        # Ensure IDs are within bounds and not the original ID\n",
    "        if 0 <= adj_cid <= lid and adj_cid != cid:\n",
    "            adjs_ids.append(f\"{base}.{adj_cid}\")\n",
    "\n",
    "    return adjs_ids\n",
    "\n",
    "\n",
    "def evaluate_context(df):\n",
    "\n",
    "    used_count = 0\n",
    "    retrieved_count = 0\n",
    "\n",
    "    used_exp_count = 0\n",
    "    retrieved_exp_count = 0\n",
    "\n",
    "    for index,row in df.iterrows():\n",
    "        metadata = json.loads(row['metadata'])\n",
    "        end_chunk = metadata['last_id']\n",
    "        context_ids = json.loads(row['context_ids'])\n",
    "        total_context_ids = json.loads(row['context_ids_total'])\n",
    "        original_chunk_id = row['id']\n",
    "        adj_context = get_adj_ids(original_chunk_id,end_chunk,dif=1)\n",
    "        adj_context.append(original_chunk_id)\n",
    "        used_context = original_chunk_id in context_ids\n",
    "        retrieved_context = original_chunk_id in total_context_ids\n",
    "        \n",
    "        used_context_ext = any(item in adj_context for item in context_ids) \n",
    "        retrieved_context_ext = any(item in adj_context for item in total_context_ids)\n",
    "\n",
    "        used_count+=used_context\n",
    "        retrieved_count+=retrieved_context\n",
    "        used_exp_count+=used_context_ext\n",
    "        retrieved_exp_count+=retrieved_context_ext\n",
    "\n",
    "        # print(f\"Index: {index} Used: {used_context} Retrieved: {retrieved_context}\")\n",
    "\n",
    "    print(f\"Used: {used_count/len(df)} Used Ext: {used_exp_count/len(df)}\\nRetrieved: {retrieved_count/len(df)} Retrieved Ext: {retrieved_exp_count/len(df)}\")\n",
    "\n",
    "\n",
    "    return 0\n",
    "\n",
    "\n",
    "res = evaluate_context(df_results)\n",
    "print(res)"
   ]
  },
  {
   "cell_type": "code",
   "execution_count": 34,
   "metadata": {},
   "outputs": [
    {
     "name": "stdout",
     "output_type": "stream",
     "text": [
      "['0.1', '0.2', '0.3', '0.4', '0.6', '0.7', '0.8', '0.9', '0.5']\n"
     ]
    }
   ],
   "source": [
    "adjies = get_adj_ids(\"0.5\",\"0.100\",4)\n",
    "adjies.append('0.5')\n",
    "print(adjies)"
   ]
  },
  {
   "cell_type": "code",
   "execution_count": null,
   "metadata": {},
   "outputs": [],
   "source": [
    "testJinaV3-250\n",
    "Used: 0.027848101265822784 Used Ext: 0.0379746835443038\n",
    "Retrieved: 0.0810126582278481 Retrieved Ext: 0.15443037974683543\n",
    "\n",
    "\n",
    "testJinaV3-500\n",
    "Used: 0.41265822784810124 Used Ext: 0.5341772151898734\n",
    "Retrieved: 0.579746835443038 Retrieved Ext: 0.6481012658227848"
   ]
  },
  {
   "cell_type": "code",
   "execution_count": null,
   "metadata": {},
   "outputs": [],
   "source": []
  }
 ],
 "metadata": {
  "kernelspec": {
   "display_name": "rag_unstructured",
   "language": "python",
   "name": "python3"
  },
  "language_info": {
   "codemirror_mode": {
    "name": "ipython",
    "version": 3
   },
   "file_extension": ".py",
   "mimetype": "text/x-python",
   "name": "python",
   "nbconvert_exporter": "python",
   "pygments_lexer": "ipython3",
   "version": "3.10.14"
  }
 },
 "nbformat": 4,
 "nbformat_minor": 2
}
